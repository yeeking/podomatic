{
 "cells": [
  {
   "cell_type": "code",
   "execution_count": null,
   "id": "c7529869-392c-4240-99e4-23ac2ff55197",
   "metadata": {},
   "outputs": [],
   "source": [
    "!pip install moviepy\n",
    "!pip install librosa\n",
    "!pip install scipy\n",
    "!pip install matplotlib\n",
    "!pip install pedalboard\n",
    "!pip install ffmpeg-python # better audio extraction"
   ]
  },
  {
   "cell_type": "code",
   "execution_count": 33,
   "id": "3a27ee3c-9b85-46f5-837f-20c81e8f6554",
   "metadata": {},
   "outputs": [],
   "source": [
    "import numpy as np\n",
    "import librosa\n",
    "from moviepy.editor import VideoFileClip, concatenate_videoclips\n",
    "import scipy \n",
    "from pedalboard import Pedalboard, Chorus, Reverb, NoiseGate\n",
    "from pedalboard.io import AudioFile\n",
    "import ffmpeg\n",
    "import os\n",
    "from scipy.io import wavfile\n",
    "from moviepy.editor import AudioFileClip, AudioClip\n",
    "import os\n",
    "from pedalboard import Pedalboard, Chorus, Reverb, Limiter\n",
    "\n",
    "def get_audio_sample_rate(video_file):\n",
    "    probe = ffmpeg.probe(video_file, v='quiet', select_streams='a:0', show_entries='stream=sample_rate')\n",
    "    if 'streams' in probe and len(probe['streams']) > 0:\n",
    "        return int(probe['streams'][0]['sample_rate'])\n",
    "    else:\n",
    "        return 0  # No audio or first audio track not found\n",
    "\n",
    "def count_audio_channels(video_file):\n",
    "    probe = ffmpeg.probe(video_file, v='quiet', select_streams='a:0', show_entries='stream=channels')\n",
    "    if 'streams' in probe and len(probe['streams']) > 0:\n",
    "        return int(probe['streams'][0]['channels'])\n",
    "    else:\n",
    "        return 0  # No audio or first audio track not found\n",
    "\n",
    "def extract_audio_data(video_file):\n",
    "    \"\"\"\n",
    "    extracts the audio track from the video file and returns it as an\n",
    "    array of samples. If 2 channels, returns average values for simplicity \n",
    "    \"\"\"\n",
    "    sr = get_audio_sample_rate(video_file)\n",
    "    channels = count_audio_channels(video_file)\n",
    "    audio, _ = (\n",
    "        ffmpeg.input(video_file)\n",
    "        .output(\"pipe:\", format=\"f32le\", acodec=\"pcm_f32le\")\n",
    "        .run(capture_stdout=True)\n",
    "    )\n",
    "    audio_array = np.frombuffer(audio, dtype=np.float32)\n",
    "    # based on number of channels, re-arrange the array\n",
    "    assert channels <= 2, \"Cannot cope with more than two channels yet\"\n",
    "    if channels == 2:\n",
    "        audio_array = (audio_array[0::2] + audio_array[1::2]) / 2        \n",
    "    return audio_array, sr\n",
    "\n",
    "def find_highest_elements(arr1, arr2):\n",
    "    \"\"\"\n",
    "    returns an array of the same length as arr1 and arr2\n",
    "    for each step in the new array, if arr1[step] > arr2[step], write 0, otherwise, 1\n",
    "    \"\"\"\n",
    "    if len(arr1) != len(arr2):\n",
    "        raise ValueError(\"Input arrays must have the same length\")\n",
    "    result = [0 if l1 > l2 else 1 for l1, l2 in zip(arr1, arr2)]\n",
    "    return np.array(result)\n",
    "\n",
    "def process_repeats(input, thresh = 100):\n",
    "    \"\"\"\n",
    "    work through values in input, writing current value \n",
    "    to an output\n",
    "    once you've seen any value > thresh times, \n",
    "    switch to that value as your output value \n",
    "    and reset counts so the race to take over starts again\n",
    "    \"\"\"\n",
    "    vals = np.unique(input)\n",
    "    counts = {}\n",
    "    for v in vals: counts[v] = 0 \n",
    "    current = vals[0]\n",
    "    output = np.zeros(len(input))\n",
    "    for i in range(len(input)):# iterate input\n",
    "        counts[input[i]] += 1 # log count for input at step i\n",
    "        for k in counts.keys(): # look for count > thresh\n",
    "            if counts[k] > thresh: # value k is over thresh\n",
    "                current = k\n",
    "                # reset counters\n",
    "                for k in counts.keys(): counts[k] = 0\n",
    "        output[i] = current\n",
    "    return output\n",
    "\n",
    "\n",
    "\n",
    "\n",
    "def test_find_highest_elements():\n",
    "    # Example usage:\n",
    "    arr1 = np.array([1, 2, 3, 4, 5])\n",
    "    arr2 = np.array([5, 4, 3, 2, 1])\n",
    "    \n",
    "    result = find_highest_elements(arr1, arr2)\n",
    "    print(\"Comparison Result:\", result)\n",
    "\n",
    "\n",
    "\n",
    "def count_repeats(arr):\n",
    "    \"\"\"\n",
    "    used to create the segment descriptors: [[0, 123], [1, 2323]]\n",
    "    where the first value is the array value, the second is the number of repeats\n",
    "    iterates over the sent 1D array, counting the length of repeating sequences\n",
    "    when the value changes, counter is set to zero\n",
    "    outputs a list of values encountered and how many repeats of each it sees\n",
    "    \"\"\"\n",
    "    lens = []\n",
    "    count = 0\n",
    "    val = arr[0]\n",
    "    for x in arr:\n",
    "        if x == val: # no change\n",
    "            count += 1\n",
    "        else: # change\n",
    "            lens.append([val, count])\n",
    "            val = x\n",
    "            count = 0\n",
    "    return lens\n",
    "    \n",
    "def create_video_edit_moviepy(video_paths, segment_descriptors):\n",
    "    clips = []\n",
    "    offset = 0  # Initialize the offset\n",
    "    videos = [VideoFileClip(p) for p in video_paths]\n",
    "    #for video_index, duration in segment_descriptors:\n",
    "    for seg_pair in segment_descriptors:\n",
    "        video_index = int(seg_pair[0])\n",
    "        duration = seg_pair[1]\n",
    "        # video_path = video_paths[video_index]\n",
    "        # clip = VideoFileClip(video_path).subclip(offset, offset + duration)\n",
    "        clip = videos[video_index].subclip(offset, offset + duration)\n",
    "        clips.append(clip)\n",
    "        offset += duration  # Accumulate the offset for the next segment\n",
    "\n",
    "    final_clip = concatenate_videoclips(clips)\n",
    "    # final_clip.write_videofile(output_path, codec='libx264')\n",
    "    \n",
    "    print(f'Video edit created')\n",
    "    return final_clip\n",
    "\n",
    "\n",
    "def remux_video(video_file, audio_file):\n",
    "    input_video = video_file\n",
    "    new_audio = audio_file\n",
    "    output_video = video_file[0:-4] + \"-mixed\" + video_file[:-4]\n",
    "    \n",
    "    # Define the input video and audio streams\n",
    "    input_video_stream = ffmpeg.input(input_video)\n",
    "    input_audio_stream = ffmpeg.input(new_audio)\n",
    "    \n",
    "    # Use the 'map' option to copy the video stream and the audio stream\n",
    "    output_stream = ffmpeg.output(input_video_stream['v'], input_audio_stream['a'], output_video, c='copy')\n",
    "    \n",
    "    # Run the ffmpeg command to replace the audio using the copy codec\n",
    "    ffmpeg.run(output_stream, overwrite_output=True)\n",
    "\n",
    "    import tempfile\n",
    "\n",
    "\n",
    "def buffer_to_audioclip(buffer, sr=48000):\n",
    "    \"\"\"\n",
    "    converts the sent buffer of samples into a moviepy audio clip\n",
    "    by writing to a file then reading back in\n",
    "    \"\"\"\n",
    "    with tempfile.NamedTemporaryFile(suffix='.wav', delete=False) as temp_audio_file:\n",
    "        temp_audio_filename = temp_audio_file.name\n",
    "        # this write should retain the buffer data as 32 bit floats\n",
    "        wavfile.write(temp_audio_filename, sr, buffer)\n",
    "    # \n",
    "    audio_clip = AudioFileClip(temp_audio_filename) \n",
    "    os.remove(temp_audio_filename)\n",
    "    return audio_clip\n",
    "\n",
    "\n",
    "def apply_gate(audio_data, sr=48000, gate_threshold_db=-25):\n",
    "    board = Pedalboard([\n",
    "        #Chorus(), Reverb(room_size=0.25)\n",
    "        NoiseGate(gate_threshold_db, release_ms=200, attack_ms=10)\n",
    "    ])\n",
    "    effected = board(audio_data, sr, reset=True)\n",
    "    return effected \n",
    "\n",
    " # class pedalboard.Limiter(threshold_db: float = -10.0, release_ms: float = 100.0)\n",
    "def apply_limit(audio_data, sr=48000, limit_threshold_db=-6):\n",
    "    board = Pedalboard([\n",
    "        #Chorus(), Reverb(room_size=0.25)\n",
    "        Limiter(threshold_db=limit_threshold_db)#, release_ms=300, attack_ms=10)\n",
    "    ])\n",
    "    effected = board(audio_data, sr, reset=True)\n",
    "    return effected \n",
    "    \n",
    "def normalise(audio):\n",
    "    # Find the maximum absolute value in the array\n",
    "    max_abs_value = np.max(np.abs(audio))\n",
    "    print(\"adding gain\", 1/max_abs_value)\n",
    "    # Normalize the array to the range -1 to 1\n",
    "    normalized_array = audio / max_abs_value\n",
    "    return normalized_array \n",
    "\n",
    "def loudness_stats(samples, block_size=512):\n",
    "    offset = 1e-6\n",
    "    samples = samples + offset\n",
    "    \n",
    "    # Calculate the number of blocks\n",
    "    num_blocks = len(samples) // block_size\n",
    "    \n",
    "    # Initialize an array to store the RMS values\n",
    "    rms_values = np.zeros(num_blocks)\n",
    "    \n",
    "    # Calculate RMS in blocks\n",
    "    for i in range(num_blocks):\n",
    "        block = samples[i * block_size : (i + 1) * block_size]\n",
    "        rms_values[i] = np.sqrt(np.mean(block ** 2))\n",
    "\n",
    "    # Step 1: Calculate the loudness (in dB) for each sample\n",
    "    loudness_dB = 20 * np.log10(np.abs(rms_values))\n",
    "    # Step 2: Compute the mean (average) of the loudness values\n",
    "    mean_loudness = np.mean(loudness_dB)\n",
    "    \n",
    "    # Step 3: Calculate the standard deviation of the loudness values\n",
    "    std_deviation_loudness = np.std(loudness_dB)\n",
    "    print(f\"Mean loudness in dB: {mean_loudness:.2f} dB\")\n",
    "    print(f\"Standard deviation of loudness in dB: {std_deviation_loudness:.2f} dB\")\n",
    "    return {\"rms_mean\":mean_loudness, \"rms_std\":std_deviation_loudness}\n",
    "\n",
    "\n",
    "def loudness_stats_old(samples):\n",
    "    samples = np.array(samples)\n",
    "    # print(\"analysing samples: \", len(samples))\n",
    "    # stop zeros...\n",
    "    offset = 1e-6\n",
    "    samples = samples + offset\n",
    "    # Step 1: Calculate the loudness (in dB) for each sample\n",
    "    loudness_dB = 20 * np.log10(np.abs(samples))\n",
    "    \n",
    "    # Step 2: Compute the mean (average) of the loudness values\n",
    "    mean_loudness = np.mean(loudness_dB)\n",
    "    \n",
    "    # Step 3: Calculate the standard deviation of the loudness values\n",
    "    std_deviation_loudness = np.std(loudness_dB)\n",
    "    \n",
    "    print(f\"Mean loudness in dB: {mean_loudness:.2f} dB\")\n",
    "    print(f\"Standard deviation of loudness in dB: {std_deviation_loudness:.2f} dB\")\n",
    "    return {\"rms_mean\":mean_loudness, \"rms_std\":std_deviation_loudness}\n",
    "\n",
    "\n",
    "# def loudness_stats(buffer):\n",
    "#     # Step 1: Calculate the root mean square (RMS)\n",
    "#     rms = np.sqrt(np.mean(buffer ** 2))\n",
    "#     rmsd = np.sqrt(np.std(buffer ** 2))\n",
    "    \n",
    "#     # Step 2: Convert RMS to dB\n",
    "#     loudness_dB = 20 * np.log10(rms)\n",
    "#     loudness_dB_std = 20 * np.log10(rmsd)\n",
    "    \n",
    "#     print(f\"Median loudness in dB: {loudness_dB:.2f} dB\")\n",
    "#     print(f\"SD: {loudness_dB_std:.2f} dB\")\n",
    "#     return loudness_dB\n",
    "   "
   ]
  },
  {
   "cell_type": "markdown",
   "id": "612e47c5-539b-49f4-858a-6da723b81d27",
   "metadata": {},
   "source": [
    "# load the clips"
   ]
  },
  {
   "cell_type": "code",
   "execution_count": 6,
   "id": "b69fbaf0-fa98-4834-8235-38aa240317d9",
   "metadata": {},
   "outputs": [
    {
     "name": "stderr",
     "output_type": "stream",
     "text": [
      "ffmpeg version 6.1.1 Copyright (c) 2000-2023 the FFmpeg developers\n",
      "  built with Apple clang version 15.0.0 (clang-1500.1.0.2.5)\n",
      "  configuration: --prefix=/opt/homebrew/Cellar/ffmpeg/6.1.1_3 --enable-shared --enable-pthreads --enable-version3 --cc=clang --host-cflags= --host-ldflags='-Wl,-ld_classic' --enable-ffplay --enable-gnutls --enable-gpl --enable-libaom --enable-libaribb24 --enable-libbluray --enable-libdav1d --enable-libharfbuzz --enable-libjxl --enable-libmp3lame --enable-libopus --enable-librav1e --enable-librist --enable-librubberband --enable-libsnappy --enable-libsrt --enable-libssh --enable-libsvtav1 --enable-libtesseract --enable-libtheora --enable-libvidstab --enable-libvmaf --enable-libvorbis --enable-libvpx --enable-libwebp --enable-libx264 --enable-libx265 --enable-libxml2 --enable-libxvid --enable-lzma --enable-libfontconfig --enable-libfreetype --enable-frei0r --enable-libass --enable-libopencore-amrnb --enable-libopencore-amrwb --enable-libopenjpeg --enable-libopenvino --enable-libspeex --enable-libsoxr --enable-libzmq --enable-libzimg --disable-libjack --disable-indev=jack --enable-videotoolbox --enable-audiotoolbox --enable-neon\n",
      "  libavutil      58. 29.100 / 58. 29.100\n",
      "  libavcodec     60. 31.102 / 60. 31.102\n",
      "  libavformat    60. 16.100 / 60. 16.100\n",
      "  libavdevice    60.  3.100 / 60.  3.100\n",
      "  libavfilter     9. 12.100 /  9. 12.100\n",
      "  libswscale      7.  5.100 /  7.  5.100\n",
      "  libswresample   4. 12.100 /  4. 12.100\n",
      "  libpostproc    57.  3.100 / 57.  3.100\n",
      "Input #0, mov,mp4,m4a,3gp,3g2,mj2, from '../data/matthew-aligned.mov':\n",
      "  Metadata:\n",
      "    major_brand     : qt  \n",
      "    minor_version   : 512\n",
      "    compatible_brands: qt  \n",
      "    creation_time   : 2024-02-02T16:10:41.000000Z\n",
      "    encoder         : Blackmagic Design DaVinci Resolve\n",
      "  Duration: 00:01:39.50, start: 0.000000, bitrate: 25041 kb/s\n",
      "  Stream #0:0[0x1]: Video: h264 (High) (avc1 / 0x31637661), yuv420p(tv, bt709, progressive), 1920x1080, 23500 kb/s, SAR 1:1 DAR 16:9, 50 fps, 50 tbr, 12800 tbn (default)\n",
      "    Metadata:\n",
      "      creation_time   : 2024-02-02T16:10:41.000000Z\n",
      "      handler_name    : VideoHandler\n",
      "      vendor_id       :     \n",
      "      encoder         : H.264\n",
      "      timecode        : 01:00:00:00\n",
      "  Stream #0:1[0x2]: Audio: pcm_s16le (lpcm / 0x6D63706C), 48000 Hz, stereo, s16, 1536 kb/s (default)\n",
      "    Metadata:\n",
      "      creation_time   : 2024-02-02T16:10:41.000000Z\n",
      "      handler_name    : SoundHandler\n",
      "      vendor_id       : [0][0][0][0]\n",
      "  Stream #0:2[0x3](eng): Data: none (tmcd / 0x64636D74)\n",
      "    Metadata:\n",
      "      creation_time   : 2024-02-02T16:10:41.000000Z\n",
      "      handler_name    : TimeCodeHandler\n",
      "      timecode        : 01:00:00:00\n",
      "Stream mapping:\n",
      "  Stream #0:1 -> #0:0 (pcm_s16le (native) -> pcm_f32le (native))\n",
      "Press [q] to stop, [?] for help\n",
      "Output #0, f32le, to 'pipe:':\n",
      "  Metadata:\n",
      "    major_brand     : qt  \n",
      "    minor_version   : 512\n",
      "    compatible_brands: qt  \n",
      "    encoder         : Lavf60.16.100\n",
      "  Stream #0:0: Audio: pcm_f32le, 48000 Hz, stereo, flt, 3072 kb/s (default)\n",
      "    Metadata:\n",
      "      creation_time   : 2024-02-02T16:10:41.000000Z\n",
      "      handler_name    : SoundHandler\n",
      "      vendor_id       : [0][0][0][0]\n",
      "      encoder         : Lavc60.31.102 pcm_f32le\n",
      "[out#0/f32le @ 0x600001bcc840] video:0kB audio:37312kB subtitle:0kB other streams:0kB global headers:0kB muxing overhead: 0.000000%\n",
      "size=   37312kB time=00:01:39.49 bitrate=3072.3kbits/s speed= 425x    \n",
      "ffmpeg version 6.1.1 Copyright (c) 2000-2023 the FFmpeg developers\n",
      "  built with Apple clang version 15.0.0 (clang-1500.1.0.2.5)\n",
      "  configuration: --prefix=/opt/homebrew/Cellar/ffmpeg/6.1.1_3 --enable-shared --enable-pthreads --enable-version3 --cc=clang --host-cflags= --host-ldflags='-Wl,-ld_classic' --enable-ffplay --enable-gnutls --enable-gpl --enable-libaom --enable-libaribb24 --enable-libbluray --enable-libdav1d --enable-libharfbuzz --enable-libjxl --enable-libmp3lame --enable-libopus --enable-librav1e --enable-librist --enable-librubberband --enable-libsnappy --enable-libsrt --enable-libssh --enable-libsvtav1 --enable-libtesseract --enable-libtheora --enable-libvidstab --enable-libvmaf --enable-libvorbis --enable-libvpx --enable-libwebp --enable-libx264 --enable-libx265 --enable-libxml2 --enable-libxvid --enable-lzma --enable-libfontconfig --enable-libfreetype --enable-frei0r --enable-libass --enable-libopencore-amrnb --enable-libopencore-amrwb --enable-libopenjpeg --enable-libopenvino --enable-libspeex --enable-libsoxr --enable-libzmq --enable-libzimg --disable-libjack --disable-indev=jack --enable-videotoolbox --enable-audiotoolbox --enable-neon\n",
      "  libavutil      58. 29.100 / 58. 29.100\n",
      "  libavcodec     60. 31.102 / 60. 31.102\n",
      "  libavformat    60. 16.100 / 60. 16.100\n",
      "  libavdevice    60.  3.100 / 60.  3.100\n",
      "  libavfilter     9. 12.100 /  9. 12.100\n",
      "  libswscale      7.  5.100 /  7.  5.100\n",
      "  libswresample   4. 12.100 /  4. 12.100\n",
      "  libpostproc    57.  3.100 / 57.  3.100\n",
      "Input #0, mov,mp4,m4a,3gp,3g2,mj2, from '../data/mark-aligned.mov':\n",
      "  Metadata:\n",
      "    major_brand     : qt  \n",
      "    minor_version   : 512\n",
      "    compatible_brands: qt  \n",
      "    creation_time   : 2024-02-02T16:33:38.000000Z\n",
      "    encoder         : Blackmagic Design DaVinci Resolve\n",
      "  Duration: 00:01:39.50, start: 0.000000, bitrate: 24696 kb/s\n",
      "  Stream #0:0[0x1]: Video: h264 (High) (avc1 / 0x31637661), yuv420p(tv, bt709, progressive), 1920x1080, 23154 kb/s, SAR 1:1 DAR 16:9, 50 fps, 50 tbr, 12800 tbn (default)\n",
      "    Metadata:\n",
      "      creation_time   : 2024-02-02T16:33:38.000000Z\n",
      "      handler_name    : VideoHandler\n",
      "      vendor_id       :     \n",
      "      encoder         : H.264\n",
      "      timecode        : 01:00:00:00\n",
      "  Stream #0:1[0x2]: Audio: pcm_s16le (lpcm / 0x6D63706C), 48000 Hz, stereo, s16, 1536 kb/s (default)\n",
      "    Metadata:\n",
      "      creation_time   : 2024-02-02T16:33:38.000000Z\n",
      "      handler_name    : SoundHandler\n",
      "      vendor_id       : [0][0][0][0]\n",
      "  Stream #0:2[0x3](eng): Data: none (tmcd / 0x64636D74)\n",
      "    Metadata:\n",
      "      creation_time   : 2024-02-02T16:33:38.000000Z\n",
      "      handler_name    : TimeCodeHandler\n",
      "      timecode        : 01:00:00:00\n",
      "Stream mapping:\n",
      "  Stream #0:1 -> #0:0 (pcm_s16le (native) -> pcm_f32le (native))\n",
      "Press [q] to stop, [?] for help\n",
      "Output #0, f32le, to 'pipe:':\n",
      "  Metadata:\n",
      "    major_brand     : qt  \n",
      "    minor_version   : 512\n",
      "    compatible_brands: qt  \n",
      "    encoder         : Lavf60.16.100\n",
      "  Stream #0:0: Audio: pcm_f32le, 48000 Hz, stereo, flt, 3072 kb/s (default)\n",
      "    Metadata:\n",
      "      creation_time   : 2024-02-02T16:33:38.000000Z\n",
      "      handler_name    : SoundHandler\n",
      "      vendor_id       : [0][0][0][0]\n",
      "      encoder         : Lavc60.31.102 pcm_f32le\n",
      "[out#0/f32le @ 0x600002490240] video:0kB audio:37312kB subtitle:0kB other streams:0kB global headers:0kB muxing overhead: 0.000000%\n",
      "size=   37312kB time=00:01:39.49 bitrate=3072.3kbits/s speed= 432x    \n"
     ]
    }
   ],
   "source": [
    "\n",
    "video_paths = ['../data/matthew-aligned.mov', '../data/mark-aligned.mov']\n",
    "assert os.path.exists(video_paths[0]), video_paths[0] + \" not found \"\n",
    "assert os.path.exists(video_paths[1]), video_paths[1] + \" not found \"\n",
    "\n",
    "clip1,sr = extract_audio_data(video_paths[0])\n",
    "clip2,sr = extract_audio_data(video_paths[1])\n",
    "\n",
    "\n"
   ]
  },
  {
   "cell_type": "markdown",
   "id": "01ae474b-02ab-4303-aa47-9b4da27460b9",
   "metadata": {},
   "source": [
    "## analysis example"
   ]
  },
  {
   "cell_type": "code",
   "execution_count": 13,
   "id": "88630d40-5f0b-4ce2-b04c-a496444ee99d",
   "metadata": {
    "scrolled": true
   },
   "outputs": [
    {
     "name": "stdout",
     "output_type": "stream",
     "text": [
      "Reading files\n",
      "Computing moving average for 99.5 seconds\n",
      "Selecting loudest clip for 99.5 seconds\n",
      "Filtering short repeats\n",
      "Counting repeat lengths for 99.00002083333334 seconds\n",
      "Reps add up to  98.51389583333334 seconds\n",
      "[[0.0, 48000], [1.0, 390424], [0.0, 224421], [1.0, 131501], [0.0, 283709], [1.0, 460454], [0.0, 121420], [1.0, 59290], [0.0, 184925], [1.0, 80432], [0.0, 470935], [1.0, 480824], [0.0, 384997], [1.0, 441618], [0.0, 207470], [1.0, 196343], [0.0, 127682], [1.0, 434222]]\n"
     ]
    }
   ],
   "source": [
    "## compute moving average\n",
    "print(\"Reading files\")\n",
    "sr = 48000\n",
    "# frame_size = sr/2 # for the moving average filter\n",
    "window_size = round(0.5 * sr)  \n",
    "\n",
    "hits_to_switch = sr # how many 'loudest frame' hits needed to switch to that track? \n",
    "\n",
    "print(\"Computing moving average for\", (len(clip1) / sr), \"seconds\")\n",
    "\n",
    "# clip1_gated = apply_gate(clip1)\n",
    "# clip2_gated = apply_gate(clip2)\n",
    "\n",
    "# moving average\n",
    "clip1_ma = scipy.signal.convolve(np.abs(clip1), np.ones(window_size)/window_size, mode='valid')\n",
    "clip2_ma = scipy.signal.convolve(np.abs(clip2), np.ones(window_size)/window_size, mode='valid')\n",
    "\n",
    "print(\"Selecting loudest clip for\", (len(clip1) / sr), \"seconds\")\n",
    "## find the highest-> [0, 0, 1, 1, ...] per audio sample\n",
    "highest_inds = find_highest_elements(clip1_ma, clip2_ma)\n",
    "## apply repeater filer\n",
    "print(\"Filtering short repeats\")\n",
    "highest_inds = process_repeats(highest_inds, thresh=hits_to_switch)\n",
    "## verify there are some switches happening \n",
    "assert len(np.unique(highest_inds)) > 1, \"Problem with highest inds - only one highest ind: \" + str(np.unique(highest_inds))\n",
    "print(\"Counting repeat lengths for\", (len(highest_inds) / sr), \"seconds\")\n",
    "## count repeats\n",
    "item_reps_all = count_repeats(highest_inds)\n",
    "print(\"Reps add up to \", (np.sum([v[1] for v in item_reps_all]) / sr), \"seconds\")\n",
    "\n",
    "print(item_reps_all)\n"
   ]
  },
  {
   "cell_type": "markdown",
   "id": "55ce9fc6-6aad-418f-90c7-2a1e7e597ab3",
   "metadata": {},
   "source": [
    "## create the video clip"
   ]
  },
  {
   "cell_type": "code",
   "execution_count": 14,
   "id": "3c3fb109-a763-4d3a-9d87-d0b7b44abe36",
   "metadata": {},
   "outputs": [
    {
     "name": "stdout",
     "output_type": "stream",
     "text": [
      "Video edit created\n"
     ]
    }
   ],
   "source": [
    "# convert to fractions of a second\n",
    "item_reps_secs = [[v[0], v[1]/sr] for v in item_reps_all]\n",
    "clip = create_video_edit_moviepy(video_paths, item_reps_secs)"
   ]
  },
  {
   "cell_type": "markdown",
   "id": "7962266d-29bb-4aee-a502-c1a99cdd610a",
   "metadata": {},
   "source": [
    "## Gate and mix the audio "
   ]
  },
  {
   "cell_type": "code",
   "execution_count": 30,
   "id": "1c91b752-f8d8-44fe-945e-b716a7264be9",
   "metadata": {},
   "outputs": [
    {
     "name": "stdout",
     "output_type": "stream",
     "text": [
      "normalise\n",
      "adding gain 2.000061037018952\n",
      "adding gain 2.000061037018952\n",
      "limiter\n",
      "Compute loudness stats for gate\n",
      "Mean loudness in dB: -43.03 dB\n",
      "Standard deviation of loudness in dB: 17.15 dB\n",
      "Mean loudness in dB: -41.73 dB\n",
      "Standard deviation of loudness in dB: 15.86 dB\n",
      "gate\n",
      "mixing\n",
      "adding gain 1.2082468827746988\n",
      "mixing and clean audio\n",
      "adding gain 2.000061037018952\n",
      "adding gain 2.000061037018952\n",
      "adding gain 1.0\n",
      "extending audio to match video\n",
      "writing audio files\n"
     ]
    },
    {
     "name": "stderr",
     "output_type": "stream",
     "text": [
      "chunk:   0%|                    | 1/2173 [04:51<175:58:12, 291.66s/it, now=None]"
     ]
    },
    {
     "name": "stdout",
     "output_type": "stream",
     "text": [
      "MoviePy - Writing audio in mixed-audio.wav\n"
     ]
    },
    {
     "name": "stderr",
     "output_type": "stream",
     "text": [
      "\n",
      "chunk:   0%|                                 | 0/2173 [00:00<?, ?it/s, now=None]\u001b[A\n",
      "chunk:  22%|████▋                | 483/2173 [00:00<00:00, 4828.95it/s, now=None]\u001b[A\n",
      "chunk:  54%|██████████▊         | 1173/2173 [00:00<00:00, 5967.22it/s, now=None]\u001b[A\n",
      "chunk:  88%|█████████████████▌  | 1912/2173 [00:00<00:00, 6612.05it/s, now=None]\u001b[A\n",
      "chunk:   0%|                    | 1/2173 [04:52<176:15:06, 292.13s/it, now=None]\u001b[A"
     ]
    },
    {
     "name": "stdout",
     "output_type": "stream",
     "text": [
      "MoviePy - Done.\n",
      "MoviePy - Writing audio in clean-audio.wav\n"
     ]
    },
    {
     "name": "stderr",
     "output_type": "stream",
     "text": [
      "\n",
      "chunk:   0%|                                 | 0/2173 [00:00<?, ?it/s, now=None]\u001b[A\n",
      "chunk:  20%|████▎                | 441/2173 [00:00<00:00, 4409.37it/s, now=None]\u001b[A\n",
      "chunk:  52%|██████████▍         | 1131/2173 [00:00<00:00, 5874.29it/s, now=None]\u001b[A\n",
      "chunk:  86%|█████████████████▏  | 1871/2173 [00:00<00:00, 6570.13it/s, now=None]\u001b[A\n",
      "chunk:   0%|                    | 1/2173 [04:52<176:27:56, 292.48s/it, now=None]\u001b[A"
     ]
    },
    {
     "name": "stdout",
     "output_type": "stream",
     "text": [
      "MoviePy - Done.\n"
     ]
    }
   ],
   "source": [
    " \n",
    "# noramlise\n",
    "print(\"normalise\")\n",
    "clip1_proc = normalise(clip1)\n",
    "clip2_proc = normalise(clip2)\n",
    "print(\"limiter\")\n",
    "clip1_proc = apply_limit(clip1)\n",
    "clip2_proc = apply_limit(clip2)\n",
    "\n",
    "print(\"Compute loudness stats for gate\")\n",
    "stats1 = loudness_stats(clip1_proc)\n",
    "stats2 = loudness_stats(clip2_proc)\n",
    "\n",
    "print(\"gate\")\n",
    "clip1_proc = apply_gate(clip1_proc, gate_threshold_db=stats1[\"rms_mean\"])\n",
    "clip2_proc = apply_gate(clip2_proc, gate_threshold_db=stats2[\"rms_mean\"])\n",
    "\n",
    "\n",
    "# mix channels\n",
    "print(\"mixing\")\n",
    "mixed_audio = (np.array(clip1_proc) + np.array(clip2_proc)) / 2\n",
    "mixed_audio = normalise(mixed_audio)\n",
    "\n",
    "print(\"mixing and clean audio\")\n",
    "# make an unprocessed version of the audio (aside from normalising)\n",
    "mixed_audio_clean = (np.array(normalise(clip1)) + np.array(normalise(clip2))) / 2\n",
    "mixed_audio_clean = normalise(mixed_audio)\n",
    "\n",
    "print(\"extending audio to match video\")\n",
    "if (len(mixed_audio) / sr) > clip.duration:\n",
    "    rem_seconds = len(mixed_audio) / sr - clip.duration\n",
    "    rem_samples = add_seconds * sr\n",
    "    mixed_audio = mixed_audio[0:-(int(rem_samples))]\n",
    "    \n",
    "print(\"writing audio files\")\n",
    "audio_as_clip = buffer_to_audioclip(mixed_audio)\n",
    "audio_as_clip.write_audiofile('mixed-audio.wav')\n",
    "audio_as_clip_clean = buffer_to_audioclip(mixed_audio)\n",
    "audio_as_clip_clean.write_audiofile('clean-audio.wav')\n"
   ]
  },
  {
   "cell_type": "code",
   "execution_count": 10,
   "id": "c116f3e2-8e65-4d19-853b-5a04a9ae0ea7",
   "metadata": {},
   "outputs": [
    {
     "data": {
      "text/plain": [
       "[<matplotlib.lines.Line2D at 0x11b447510>]"
      ]
     },
     "execution_count": 10,
     "metadata": {},
     "output_type": "execute_result"
    },
    {
     "data": {
      "image/png": "[encoded data removed]",
      "text/plain": [
       "<Figure size 640x480 with 1 Axes>"
      ]
     },
     "metadata": {},
     "output_type": "display_data"
    }
   ],
   "source": [
    "## plot the audio\n",
    "import matplotlib.pyplot as plt\n",
    "plt.plot(np.arange(0, len(mixed_audio), 1), mixed_audio, alpha=0.5, color='blue')"
   ]
  },
  {
   "cell_type": "code",
   "execution_count": 29,
   "id": "30d1843c-f0fc-4499-b1a7-b6ab53a23ff0",
   "metadata": {},
   "outputs": [
    {
     "name": "stdout",
     "output_type": "stream",
     "text": [
      "Moviepy - Building video mm-test-clean-audio.mp4.\n",
      "MoviePy - Writing audio in mm-test-clean-audioTEMP_MPY_wvf_snd.mp3\n"
     ]
    },
    {
     "name": "stderr",
     "output_type": "stream",
     "text": [
      "chunk:   0%|                                 | 0/2173 [00:00<?, ?it/s, now=None]"
     ]
    },
    {
     "ename": "IndexError",
     "evalue": "index -100001 is out of bounds for axis 0 with size 0",
     "output_type": "error",
     "traceback": [
      "\u001b[0;31m---------------------------------------------------------------------------\u001b[0m",
      "\u001b[0;31mIndexError\u001b[0m                                Traceback (most recent call last)",
      "File \u001b[0;32m~/Python/podomatic/lib/python3.11/site-packages/moviepy/audio/io/readers.py:193\u001b[0m, in \u001b[0;36mFFMPEG_AudioReader.get_frame\u001b[0;34m(self, tt)\u001b[0m\n\u001b[1;32m    192\u001b[0m     indices \u001b[38;5;241m=\u001b[39m indices \u001b[38;5;241m-\u001b[39m (\u001b[38;5;28mself\u001b[39m\u001b[38;5;241m.\u001b[39mbuffersize \u001b[38;5;241m/\u001b[39m\u001b[38;5;241m/\u001b[39m \u001b[38;5;241m2\u001b[39m \u001b[38;5;241m-\u001b[39m \u001b[38;5;28mlen\u001b[39m(\u001b[38;5;28mself\u001b[39m\u001b[38;5;241m.\u001b[39mbuffer) \u001b[38;5;241m+\u001b[39m \u001b[38;5;241m1\u001b[39m)\n\u001b[0;32m--> 193\u001b[0m result[in_time] \u001b[38;5;241m=\u001b[39m \u001b[38;5;28;43mself\u001b[39;49m\u001b[38;5;241;43m.\u001b[39;49m\u001b[43mbuffer\u001b[49m\u001b[43m[\u001b[49m\u001b[43mindices\u001b[49m\u001b[43m]\u001b[49m\n\u001b[1;32m    194\u001b[0m \u001b[38;5;28;01mreturn\u001b[39;00m result\n",
      "\u001b[0;31mIndexError\u001b[0m: index -100001 is out of bounds for axis 0 with size 0",
      "\nDuring handling of the above exception, another exception occurred:\n",
      "\u001b[0;31mIndexError\u001b[0m                                Traceback (most recent call last)",
      "Cell \u001b[0;32mIn[29], line 4\u001b[0m\n\u001b[1;32m      1\u001b[0m \u001b[38;5;66;03m#clip.write_videofile('test2.mov', codec='prores', audio_codec='pcm_s32le')\u001b[39;00m\n\u001b[1;32m      2\u001b[0m \u001b[38;5;66;03m# clip.audio = audio_as_clip\u001b[39;00m\n\u001b[1;32m      3\u001b[0m clip\u001b[38;5;241m.\u001b[39maudio \u001b[38;5;241m=\u001b[39m audio_as_clip\n\u001b[0;32m----> 4\u001b[0m \u001b[43mclip\u001b[49m\u001b[38;5;241;43m.\u001b[39;49m\u001b[43mwrite_videofile\u001b[49m\u001b[43m(\u001b[49m\u001b[38;5;124;43m'\u001b[39;49m\u001b[38;5;124;43mmm-test-clean-audio.mp4\u001b[39;49m\u001b[38;5;124;43m'\u001b[39;49m\u001b[43m)\u001b[49m\n",
      "File \u001b[0;32m<decorator-gen-73>:2\u001b[0m, in \u001b[0;36mwrite_videofile\u001b[0;34m(self, filename, fps, codec, bitrate, audio, audio_fps, preset, audio_nbytes, audio_codec, audio_bitrate, audio_bufsize, temp_audiofile, rewrite_audio, remove_temp, write_logfile, verbose, threads, ffmpeg_params, logger)\u001b[0m\n",
      "File \u001b[0;32m~/Python/podomatic/lib/python3.11/site-packages/moviepy/decorators.py:54\u001b[0m, in \u001b[0;36mrequires_duration\u001b[0;34m(f, clip, *a, **k)\u001b[0m\n\u001b[1;32m     52\u001b[0m     \u001b[38;5;28;01mraise\u001b[39;00m \u001b[38;5;167;01mValueError\u001b[39;00m(\u001b[38;5;124m\"\u001b[39m\u001b[38;5;124mAttribute \u001b[39m\u001b[38;5;124m'\u001b[39m\u001b[38;5;124mduration\u001b[39m\u001b[38;5;124m'\u001b[39m\u001b[38;5;124m not set\u001b[39m\u001b[38;5;124m\"\u001b[39m)\n\u001b[1;32m     53\u001b[0m \u001b[38;5;28;01melse\u001b[39;00m:\n\u001b[0;32m---> 54\u001b[0m     \u001b[38;5;28;01mreturn\u001b[39;00m \u001b[43mf\u001b[49m\u001b[43m(\u001b[49m\u001b[43mclip\u001b[49m\u001b[43m,\u001b[49m\u001b[43m \u001b[49m\u001b[38;5;241;43m*\u001b[39;49m\u001b[43ma\u001b[49m\u001b[43m,\u001b[49m\u001b[43m \u001b[49m\u001b[38;5;241;43m*\u001b[39;49m\u001b[38;5;241;43m*\u001b[39;49m\u001b[43mk\u001b[49m\u001b[43m)\u001b[49m\n",
      "File \u001b[0;32m<decorator-gen-72>:2\u001b[0m, in \u001b[0;36mwrite_videofile\u001b[0;34m(self, filename, fps, codec, bitrate, audio, audio_fps, preset, audio_nbytes, audio_codec, audio_bitrate, audio_bufsize, temp_audiofile, rewrite_audio, remove_temp, write_logfile, verbose, threads, ffmpeg_params, logger)\u001b[0m\n",
      "File \u001b[0;32m~/Python/podomatic/lib/python3.11/site-packages/moviepy/decorators.py:135\u001b[0m, in \u001b[0;36muse_clip_fps_by_default\u001b[0;34m(f, clip, *a, **k)\u001b[0m\n\u001b[1;32m    130\u001b[0m new_a \u001b[38;5;241m=\u001b[39m [fun(arg) \u001b[38;5;28;01mif\u001b[39;00m (name\u001b[38;5;241m==\u001b[39m\u001b[38;5;124m'\u001b[39m\u001b[38;5;124mfps\u001b[39m\u001b[38;5;124m'\u001b[39m) \u001b[38;5;28;01melse\u001b[39;00m arg\n\u001b[1;32m    131\u001b[0m          \u001b[38;5;28;01mfor\u001b[39;00m (arg, name) \u001b[38;5;129;01min\u001b[39;00m \u001b[38;5;28mzip\u001b[39m(a, names)]\n\u001b[1;32m    132\u001b[0m new_kw \u001b[38;5;241m=\u001b[39m {k: fun(v) \u001b[38;5;28;01mif\u001b[39;00m k\u001b[38;5;241m==\u001b[39m\u001b[38;5;124m'\u001b[39m\u001b[38;5;124mfps\u001b[39m\u001b[38;5;124m'\u001b[39m \u001b[38;5;28;01melse\u001b[39;00m v\n\u001b[1;32m    133\u001b[0m          \u001b[38;5;28;01mfor\u001b[39;00m (k,v) \u001b[38;5;129;01min\u001b[39;00m k\u001b[38;5;241m.\u001b[39mitems()}\n\u001b[0;32m--> 135\u001b[0m \u001b[38;5;28;01mreturn\u001b[39;00m \u001b[43mf\u001b[49m\u001b[43m(\u001b[49m\u001b[43mclip\u001b[49m\u001b[43m,\u001b[49m\u001b[43m \u001b[49m\u001b[38;5;241;43m*\u001b[39;49m\u001b[43mnew_a\u001b[49m\u001b[43m,\u001b[49m\u001b[43m \u001b[49m\u001b[38;5;241;43m*\u001b[39;49m\u001b[38;5;241;43m*\u001b[39;49m\u001b[43mnew_kw\u001b[49m\u001b[43m)\u001b[49m\n",
      "File \u001b[0;32m<decorator-gen-71>:2\u001b[0m, in \u001b[0;36mwrite_videofile\u001b[0;34m(self, filename, fps, codec, bitrate, audio, audio_fps, preset, audio_nbytes, audio_codec, audio_bitrate, audio_bufsize, temp_audiofile, rewrite_audio, remove_temp, write_logfile, verbose, threads, ffmpeg_params, logger)\u001b[0m\n",
      "File \u001b[0;32m~/Python/podomatic/lib/python3.11/site-packages/moviepy/decorators.py:22\u001b[0m, in \u001b[0;36mconvert_masks_to_RGB\u001b[0;34m(f, clip, *a, **k)\u001b[0m\n\u001b[1;32m     20\u001b[0m \u001b[38;5;28;01mif\u001b[39;00m clip\u001b[38;5;241m.\u001b[39mismask:\n\u001b[1;32m     21\u001b[0m     clip \u001b[38;5;241m=\u001b[39m clip\u001b[38;5;241m.\u001b[39mto_RGB()\n\u001b[0;32m---> 22\u001b[0m \u001b[38;5;28;01mreturn\u001b[39;00m \u001b[43mf\u001b[49m\u001b[43m(\u001b[49m\u001b[43mclip\u001b[49m\u001b[43m,\u001b[49m\u001b[43m \u001b[49m\u001b[38;5;241;43m*\u001b[39;49m\u001b[43ma\u001b[49m\u001b[43m,\u001b[49m\u001b[43m \u001b[49m\u001b[38;5;241;43m*\u001b[39;49m\u001b[38;5;241;43m*\u001b[39;49m\u001b[43mk\u001b[49m\u001b[43m)\u001b[49m\n",
      "File \u001b[0;32m~/Python/podomatic/lib/python3.11/site-packages/moviepy/video/VideoClip.py:293\u001b[0m, in \u001b[0;36mVideoClip.write_videofile\u001b[0;34m(self, filename, fps, codec, bitrate, audio, audio_fps, preset, audio_nbytes, audio_codec, audio_bitrate, audio_bufsize, temp_audiofile, rewrite_audio, remove_temp, write_logfile, verbose, threads, ffmpeg_params, logger)\u001b[0m\n\u001b[1;32m    291\u001b[0m logger(message\u001b[38;5;241m=\u001b[39m\u001b[38;5;124m\"\u001b[39m\u001b[38;5;124mMoviepy - Building video \u001b[39m\u001b[38;5;132;01m%s\u001b[39;00m\u001b[38;5;124m.\u001b[39m\u001b[38;5;124m\"\u001b[39m \u001b[38;5;241m%\u001b[39m filename)\n\u001b[1;32m    292\u001b[0m \u001b[38;5;28;01mif\u001b[39;00m make_audio:\n\u001b[0;32m--> 293\u001b[0m     \u001b[38;5;28;43mself\u001b[39;49m\u001b[38;5;241;43m.\u001b[39;49m\u001b[43maudio\u001b[49m\u001b[38;5;241;43m.\u001b[39;49m\u001b[43mwrite_audiofile\u001b[49m\u001b[43m(\u001b[49m\u001b[43maudiofile\u001b[49m\u001b[43m,\u001b[49m\u001b[43m \u001b[49m\u001b[43maudio_fps\u001b[49m\u001b[43m,\u001b[49m\n\u001b[1;32m    294\u001b[0m \u001b[43m                               \u001b[49m\u001b[43maudio_nbytes\u001b[49m\u001b[43m,\u001b[49m\u001b[43m \u001b[49m\u001b[43maudio_bufsize\u001b[49m\u001b[43m,\u001b[49m\n\u001b[1;32m    295\u001b[0m \u001b[43m                               \u001b[49m\u001b[43maudio_codec\u001b[49m\u001b[43m,\u001b[49m\u001b[43m \u001b[49m\u001b[43mbitrate\u001b[49m\u001b[38;5;241;43m=\u001b[39;49m\u001b[43maudio_bitrate\u001b[49m\u001b[43m,\u001b[49m\n\u001b[1;32m    296\u001b[0m \u001b[43m                               \u001b[49m\u001b[43mwrite_logfile\u001b[49m\u001b[38;5;241;43m=\u001b[39;49m\u001b[43mwrite_logfile\u001b[49m\u001b[43m,\u001b[49m\n\u001b[1;32m    297\u001b[0m \u001b[43m                               \u001b[49m\u001b[43mverbose\u001b[49m\u001b[38;5;241;43m=\u001b[39;49m\u001b[43mverbose\u001b[49m\u001b[43m,\u001b[49m\n\u001b[1;32m    298\u001b[0m \u001b[43m                               \u001b[49m\u001b[43mlogger\u001b[49m\u001b[38;5;241;43m=\u001b[39;49m\u001b[43mlogger\u001b[49m\u001b[43m)\u001b[49m\n\u001b[1;32m    300\u001b[0m ffmpeg_write_video(\u001b[38;5;28mself\u001b[39m, filename, fps, codec,\n\u001b[1;32m    301\u001b[0m                    bitrate\u001b[38;5;241m=\u001b[39mbitrate,\n\u001b[1;32m    302\u001b[0m                    preset\u001b[38;5;241m=\u001b[39mpreset,\n\u001b[0;32m   (...)\u001b[0m\n\u001b[1;32m    306\u001b[0m                    ffmpeg_params\u001b[38;5;241m=\u001b[39mffmpeg_params,\n\u001b[1;32m    307\u001b[0m                    logger\u001b[38;5;241m=\u001b[39mlogger)\n\u001b[1;32m    309\u001b[0m \u001b[38;5;28;01mif\u001b[39;00m remove_temp \u001b[38;5;129;01mand\u001b[39;00m make_audio:\n",
      "File \u001b[0;32m<decorator-gen-63>:2\u001b[0m, in \u001b[0;36mwrite_audiofile\u001b[0;34m(self, filename, fps, nbytes, buffersize, codec, bitrate, ffmpeg_params, write_logfile, verbose, logger)\u001b[0m\n",
      "File \u001b[0;32m~/Python/podomatic/lib/python3.11/site-packages/moviepy/decorators.py:54\u001b[0m, in \u001b[0;36mrequires_duration\u001b[0;34m(f, clip, *a, **k)\u001b[0m\n\u001b[1;32m     52\u001b[0m     \u001b[38;5;28;01mraise\u001b[39;00m \u001b[38;5;167;01mValueError\u001b[39;00m(\u001b[38;5;124m\"\u001b[39m\u001b[38;5;124mAttribute \u001b[39m\u001b[38;5;124m'\u001b[39m\u001b[38;5;124mduration\u001b[39m\u001b[38;5;124m'\u001b[39m\u001b[38;5;124m not set\u001b[39m\u001b[38;5;124m\"\u001b[39m)\n\u001b[1;32m     53\u001b[0m \u001b[38;5;28;01melse\u001b[39;00m:\n\u001b[0;32m---> 54\u001b[0m     \u001b[38;5;28;01mreturn\u001b[39;00m \u001b[43mf\u001b[49m\u001b[43m(\u001b[49m\u001b[43mclip\u001b[49m\u001b[43m,\u001b[49m\u001b[43m \u001b[49m\u001b[38;5;241;43m*\u001b[39;49m\u001b[43ma\u001b[49m\u001b[43m,\u001b[49m\u001b[43m \u001b[49m\u001b[38;5;241;43m*\u001b[39;49m\u001b[38;5;241;43m*\u001b[39;49m\u001b[43mk\u001b[49m\u001b[43m)\u001b[49m\n",
      "File \u001b[0;32m~/Python/podomatic/lib/python3.11/site-packages/moviepy/audio/AudioClip.py:206\u001b[0m, in \u001b[0;36mAudioClip.write_audiofile\u001b[0;34m(self, filename, fps, nbytes, buffersize, codec, bitrate, ffmpeg_params, write_logfile, verbose, logger)\u001b[0m\n\u001b[1;32m    201\u001b[0m     \u001b[38;5;28;01mexcept\u001b[39;00m \u001b[38;5;167;01mKeyError\u001b[39;00m:\n\u001b[1;32m    202\u001b[0m         \u001b[38;5;28;01mraise\u001b[39;00m \u001b[38;5;167;01mValueError\u001b[39;00m(\u001b[38;5;124m\"\u001b[39m\u001b[38;5;124mMoviePy couldn\u001b[39m\u001b[38;5;124m'\u001b[39m\u001b[38;5;124mt find the codec associated \u001b[39m\u001b[38;5;124m\"\u001b[39m\n\u001b[1;32m    203\u001b[0m                          \u001b[38;5;124m\"\u001b[39m\u001b[38;5;124mwith the filename. Provide the \u001b[39m\u001b[38;5;124m'\u001b[39m\u001b[38;5;124mcodec\u001b[39m\u001b[38;5;124m'\u001b[39m\u001b[38;5;124m \u001b[39m\u001b[38;5;124m\"\u001b[39m\n\u001b[1;32m    204\u001b[0m                          \u001b[38;5;124m\"\u001b[39m\u001b[38;5;124mparameter in write_audiofile.\u001b[39m\u001b[38;5;124m\"\u001b[39m)\n\u001b[0;32m--> 206\u001b[0m \u001b[38;5;28;01mreturn\u001b[39;00m \u001b[43mffmpeg_audiowrite\u001b[49m\u001b[43m(\u001b[49m\u001b[38;5;28;43mself\u001b[39;49m\u001b[43m,\u001b[49m\u001b[43m \u001b[49m\u001b[43mfilename\u001b[49m\u001b[43m,\u001b[49m\u001b[43m \u001b[49m\u001b[43mfps\u001b[49m\u001b[43m,\u001b[49m\u001b[43m \u001b[49m\u001b[43mnbytes\u001b[49m\u001b[43m,\u001b[49m\u001b[43m \u001b[49m\u001b[43mbuffersize\u001b[49m\u001b[43m,\u001b[49m\n\u001b[1;32m    207\u001b[0m \u001b[43m                         \u001b[49m\u001b[43mcodec\u001b[49m\u001b[38;5;241;43m=\u001b[39;49m\u001b[43mcodec\u001b[49m\u001b[43m,\u001b[49m\u001b[43m \u001b[49m\u001b[43mbitrate\u001b[49m\u001b[38;5;241;43m=\u001b[39;49m\u001b[43mbitrate\u001b[49m\u001b[43m,\u001b[49m\n\u001b[1;32m    208\u001b[0m \u001b[43m                         \u001b[49m\u001b[43mwrite_logfile\u001b[49m\u001b[38;5;241;43m=\u001b[39;49m\u001b[43mwrite_logfile\u001b[49m\u001b[43m,\u001b[49m\u001b[43m \u001b[49m\u001b[43mverbose\u001b[49m\u001b[38;5;241;43m=\u001b[39;49m\u001b[43mverbose\u001b[49m\u001b[43m,\u001b[49m\n\u001b[1;32m    209\u001b[0m \u001b[43m                         \u001b[49m\u001b[43mffmpeg_params\u001b[49m\u001b[38;5;241;43m=\u001b[39;49m\u001b[43mffmpeg_params\u001b[49m\u001b[43m,\u001b[49m\n\u001b[1;32m    210\u001b[0m \u001b[43m                         \u001b[49m\u001b[43mlogger\u001b[49m\u001b[38;5;241;43m=\u001b[39;49m\u001b[43mlogger\u001b[49m\u001b[43m)\u001b[49m\n",
      "File \u001b[0;32m<decorator-gen-27>:2\u001b[0m, in \u001b[0;36mffmpeg_audiowrite\u001b[0;34m(clip, filename, fps, nbytes, buffersize, codec, bitrate, write_logfile, verbose, ffmpeg_params, logger)\u001b[0m\n",
      "File \u001b[0;32m~/Python/podomatic/lib/python3.11/site-packages/moviepy/decorators.py:54\u001b[0m, in \u001b[0;36mrequires_duration\u001b[0;34m(f, clip, *a, **k)\u001b[0m\n\u001b[1;32m     52\u001b[0m     \u001b[38;5;28;01mraise\u001b[39;00m \u001b[38;5;167;01mValueError\u001b[39;00m(\u001b[38;5;124m\"\u001b[39m\u001b[38;5;124mAttribute \u001b[39m\u001b[38;5;124m'\u001b[39m\u001b[38;5;124mduration\u001b[39m\u001b[38;5;124m'\u001b[39m\u001b[38;5;124m not set\u001b[39m\u001b[38;5;124m\"\u001b[39m)\n\u001b[1;32m     53\u001b[0m \u001b[38;5;28;01melse\u001b[39;00m:\n\u001b[0;32m---> 54\u001b[0m     \u001b[38;5;28;01mreturn\u001b[39;00m \u001b[43mf\u001b[49m\u001b[43m(\u001b[49m\u001b[43mclip\u001b[49m\u001b[43m,\u001b[49m\u001b[43m \u001b[49m\u001b[38;5;241;43m*\u001b[39;49m\u001b[43ma\u001b[49m\u001b[43m,\u001b[49m\u001b[43m \u001b[49m\u001b[38;5;241;43m*\u001b[39;49m\u001b[38;5;241;43m*\u001b[39;49m\u001b[43mk\u001b[49m\u001b[43m)\u001b[49m\n",
      "File \u001b[0;32m~/Python/podomatic/lib/python3.11/site-packages/moviepy/audio/io/ffmpeg_audiowriter.py:166\u001b[0m, in \u001b[0;36mffmpeg_audiowrite\u001b[0;34m(clip, filename, fps, nbytes, buffersize, codec, bitrate, write_logfile, verbose, ffmpeg_params, logger)\u001b[0m\n\u001b[1;32m    160\u001b[0m logger(message\u001b[38;5;241m=\u001b[39m\u001b[38;5;124m\"\u001b[39m\u001b[38;5;124mMoviePy - Writing audio in \u001b[39m\u001b[38;5;132;01m%s\u001b[39;00m\u001b[38;5;124m\"\u001b[39m \u001b[38;5;241m%\u001b[39m filename)\n\u001b[1;32m    161\u001b[0m writer \u001b[38;5;241m=\u001b[39m FFMPEG_AudioWriter(filename, fps, nbytes, clip\u001b[38;5;241m.\u001b[39mnchannels,\n\u001b[1;32m    162\u001b[0m                             codec\u001b[38;5;241m=\u001b[39mcodec, bitrate\u001b[38;5;241m=\u001b[39mbitrate,\n\u001b[1;32m    163\u001b[0m                             logfile\u001b[38;5;241m=\u001b[39mlogfile,\n\u001b[1;32m    164\u001b[0m                             ffmpeg_params\u001b[38;5;241m=\u001b[39mffmpeg_params)\n\u001b[0;32m--> 166\u001b[0m \u001b[43m\u001b[49m\u001b[38;5;28;43;01mfor\u001b[39;49;00m\u001b[43m \u001b[49m\u001b[43mchunk\u001b[49m\u001b[43m \u001b[49m\u001b[38;5;129;43;01min\u001b[39;49;00m\u001b[43m \u001b[49m\u001b[43mclip\u001b[49m\u001b[38;5;241;43m.\u001b[39;49m\u001b[43miter_chunks\u001b[49m\u001b[43m(\u001b[49m\u001b[43mchunksize\u001b[49m\u001b[38;5;241;43m=\u001b[39;49m\u001b[43mbuffersize\u001b[49m\u001b[43m,\u001b[49m\n\u001b[1;32m    167\u001b[0m \u001b[43m                              \u001b[49m\u001b[43mquantize\u001b[49m\u001b[38;5;241;43m=\u001b[39;49m\u001b[38;5;28;43;01mTrue\u001b[39;49;00m\u001b[43m,\u001b[49m\n\u001b[1;32m    168\u001b[0m \u001b[43m                              \u001b[49m\u001b[43mnbytes\u001b[49m\u001b[38;5;241;43m=\u001b[39;49m\u001b[43mnbytes\u001b[49m\u001b[43m,\u001b[49m\u001b[43m \u001b[49m\u001b[43mfps\u001b[49m\u001b[38;5;241;43m=\u001b[39;49m\u001b[43mfps\u001b[49m\u001b[43m,\u001b[49m\n\u001b[1;32m    169\u001b[0m \u001b[43m                              \u001b[49m\u001b[43mlogger\u001b[49m\u001b[38;5;241;43m=\u001b[39;49m\u001b[43mlogger\u001b[49m\u001b[43m)\u001b[49m\u001b[43m:\u001b[49m\n\u001b[1;32m    170\u001b[0m \u001b[43m    \u001b[49m\u001b[43mwriter\u001b[49m\u001b[38;5;241;43m.\u001b[39;49m\u001b[43mwrite_frames\u001b[49m\u001b[43m(\u001b[49m\u001b[43mchunk\u001b[49m\u001b[43m)\u001b[49m\n\u001b[1;32m    172\u001b[0m writer\u001b[38;5;241m.\u001b[39mclose()\n",
      "File \u001b[0;32m~/Python/podomatic/lib/python3.11/site-packages/moviepy/audio/AudioClip.py:85\u001b[0m, in \u001b[0;36mAudioClip.iter_chunks\u001b[0;34m(self, chunksize, chunk_duration, fps, quantize, nbytes, logger)\u001b[0m\n\u001b[1;32m     83\u001b[0m \u001b[38;5;28;01massert\u001b[39;00m(size \u001b[38;5;241m<\u001b[39m\u001b[38;5;241m=\u001b[39m chunksize)\n\u001b[1;32m     84\u001b[0m tt \u001b[38;5;241m=\u001b[39m (\u001b[38;5;241m1.0\u001b[39m\u001b[38;5;241m/\u001b[39mfps)\u001b[38;5;241m*\u001b[39mnp\u001b[38;5;241m.\u001b[39marange(pospos[i], pospos[i\u001b[38;5;241m+\u001b[39m\u001b[38;5;241m1\u001b[39m])\n\u001b[0;32m---> 85\u001b[0m \u001b[38;5;28;01myield\u001b[39;00m \u001b[38;5;28;43mself\u001b[39;49m\u001b[38;5;241;43m.\u001b[39;49m\u001b[43mto_soundarray\u001b[49m\u001b[43m(\u001b[49m\u001b[43mtt\u001b[49m\u001b[43m,\u001b[49m\u001b[43m \u001b[49m\u001b[43mnbytes\u001b[49m\u001b[38;5;241;43m=\u001b[39;49m\u001b[43mnbytes\u001b[49m\u001b[43m,\u001b[49m\u001b[43m \u001b[49m\u001b[43mquantize\u001b[49m\u001b[38;5;241;43m=\u001b[39;49m\u001b[43mquantize\u001b[49m\u001b[43m,\u001b[49m\n\u001b[1;32m     86\u001b[0m \u001b[43m                            \u001b[49m\u001b[43mfps\u001b[49m\u001b[38;5;241;43m=\u001b[39;49m\u001b[43mfps\u001b[49m\u001b[43m,\u001b[49m\u001b[43m \u001b[49m\u001b[43mbuffersize\u001b[49m\u001b[38;5;241;43m=\u001b[39;49m\u001b[43mchunksize\u001b[49m\u001b[43m)\u001b[49m\n",
      "File \u001b[0;32m<decorator-gen-62>:2\u001b[0m, in \u001b[0;36mto_soundarray\u001b[0;34m(self, tt, fps, quantize, nbytes, buffersize)\u001b[0m\n",
      "File \u001b[0;32m~/Python/podomatic/lib/python3.11/site-packages/moviepy/decorators.py:54\u001b[0m, in \u001b[0;36mrequires_duration\u001b[0;34m(f, clip, *a, **k)\u001b[0m\n\u001b[1;32m     52\u001b[0m     \u001b[38;5;28;01mraise\u001b[39;00m \u001b[38;5;167;01mValueError\u001b[39;00m(\u001b[38;5;124m\"\u001b[39m\u001b[38;5;124mAttribute \u001b[39m\u001b[38;5;124m'\u001b[39m\u001b[38;5;124mduration\u001b[39m\u001b[38;5;124m'\u001b[39m\u001b[38;5;124m not set\u001b[39m\u001b[38;5;124m\"\u001b[39m)\n\u001b[1;32m     53\u001b[0m \u001b[38;5;28;01melse\u001b[39;00m:\n\u001b[0;32m---> 54\u001b[0m     \u001b[38;5;28;01mreturn\u001b[39;00m \u001b[43mf\u001b[49m\u001b[43m(\u001b[49m\u001b[43mclip\u001b[49m\u001b[43m,\u001b[49m\u001b[43m \u001b[49m\u001b[38;5;241;43m*\u001b[39;49m\u001b[43ma\u001b[49m\u001b[43m,\u001b[49m\u001b[43m \u001b[49m\u001b[38;5;241;43m*\u001b[39;49m\u001b[38;5;241;43m*\u001b[39;49m\u001b[43mk\u001b[49m\u001b[43m)\u001b[49m\n",
      "File \u001b[0;32m~/Python/podomatic/lib/python3.11/site-packages/moviepy/audio/AudioClip.py:127\u001b[0m, in \u001b[0;36mAudioClip.to_soundarray\u001b[0;34m(self, tt, fps, quantize, nbytes, buffersize)\u001b[0m\n\u001b[1;32m    117\u001b[0m \u001b[38;5;250m\u001b[39m\u001b[38;5;124;03m\"\"\"\u001b[39;00m\n\u001b[1;32m    118\u001b[0m \u001b[38;5;124;03melif len(tt)> 1.5*buffersize:\u001b[39;00m\n\u001b[1;32m    119\u001b[0m \u001b[38;5;124;03m    nchunks = int(len(tt)/buffersize+1)\u001b[39;00m\n\u001b[0;32m   (...)\u001b[0m\n\u001b[1;32m    123\u001b[0m \u001b[38;5;124;03m                      for ttc in tt_chunks])\u001b[39;00m\n\u001b[1;32m    124\u001b[0m \u001b[38;5;124;03m\"\"\"\u001b[39;00m\n\u001b[1;32m    125\u001b[0m \u001b[38;5;66;03m#print tt.max() - tt.min(), tt.min(), tt.max()\u001b[39;00m\n\u001b[0;32m--> 127\u001b[0m snd_array \u001b[38;5;241m=\u001b[39m \u001b[38;5;28;43mself\u001b[39;49m\u001b[38;5;241;43m.\u001b[39;49m\u001b[43mget_frame\u001b[49m\u001b[43m(\u001b[49m\u001b[43mtt\u001b[49m\u001b[43m)\u001b[49m\n\u001b[1;32m    129\u001b[0m \u001b[38;5;28;01mif\u001b[39;00m quantize:\n\u001b[1;32m    130\u001b[0m     snd_array \u001b[38;5;241m=\u001b[39m np\u001b[38;5;241m.\u001b[39mmaximum(\u001b[38;5;241m-\u001b[39m\u001b[38;5;241m0.99\u001b[39m, np\u001b[38;5;241m.\u001b[39mminimum(\u001b[38;5;241m0.99\u001b[39m, snd_array))\n",
      "File \u001b[0;32m<decorator-gen-29>:2\u001b[0m, in \u001b[0;36mget_frame\u001b[0;34m(self, t)\u001b[0m\n",
      "File \u001b[0;32m~/Python/podomatic/lib/python3.11/site-packages/moviepy/decorators.py:89\u001b[0m, in \u001b[0;36mpreprocess_args.<locals>.wrapper\u001b[0;34m(f, *a, **kw)\u001b[0m\n\u001b[1;32m     85\u001b[0m new_a \u001b[38;5;241m=\u001b[39m [fun(arg) \u001b[38;5;28;01mif\u001b[39;00m (name \u001b[38;5;129;01min\u001b[39;00m varnames) \u001b[38;5;28;01melse\u001b[39;00m arg\n\u001b[1;32m     86\u001b[0m          \u001b[38;5;28;01mfor\u001b[39;00m (arg, name) \u001b[38;5;129;01min\u001b[39;00m \u001b[38;5;28mzip\u001b[39m(a, names)]\n\u001b[1;32m     87\u001b[0m new_kw \u001b[38;5;241m=\u001b[39m {k: fun(v) \u001b[38;5;28;01mif\u001b[39;00m k \u001b[38;5;129;01min\u001b[39;00m varnames \u001b[38;5;28;01melse\u001b[39;00m v\n\u001b[1;32m     88\u001b[0m          \u001b[38;5;28;01mfor\u001b[39;00m (k,v) \u001b[38;5;129;01min\u001b[39;00m kw\u001b[38;5;241m.\u001b[39mitems()}\n\u001b[0;32m---> 89\u001b[0m \u001b[38;5;28;01mreturn\u001b[39;00m \u001b[43mf\u001b[49m\u001b[43m(\u001b[49m\u001b[38;5;241;43m*\u001b[39;49m\u001b[43mnew_a\u001b[49m\u001b[43m,\u001b[49m\u001b[43m \u001b[49m\u001b[38;5;241;43m*\u001b[39;49m\u001b[38;5;241;43m*\u001b[39;49m\u001b[43mnew_kw\u001b[49m\u001b[43m)\u001b[49m\n",
      "File \u001b[0;32m~/Python/podomatic/lib/python3.11/site-packages/moviepy/Clip.py:93\u001b[0m, in \u001b[0;36mClip.get_frame\u001b[0;34m(self, t)\u001b[0m\n\u001b[1;32m     91\u001b[0m         \u001b[38;5;28;01mreturn\u001b[39;00m frame\n\u001b[1;32m     92\u001b[0m \u001b[38;5;28;01melse\u001b[39;00m:\n\u001b[0;32m---> 93\u001b[0m     \u001b[38;5;28;01mreturn\u001b[39;00m \u001b[38;5;28;43mself\u001b[39;49m\u001b[38;5;241;43m.\u001b[39;49m\u001b[43mmake_frame\u001b[49m\u001b[43m(\u001b[49m\u001b[43mt\u001b[49m\u001b[43m)\u001b[49m\n",
      "File \u001b[0;32m~/Python/podomatic/lib/python3.11/site-packages/moviepy/audio/io/AudioFileClip.py:77\u001b[0m, in \u001b[0;36mAudioFileClip.__init__.<locals>.<lambda>\u001b[0;34m(t)\u001b[0m\n\u001b[1;32m     74\u001b[0m \u001b[38;5;28mself\u001b[39m\u001b[38;5;241m.\u001b[39mend \u001b[38;5;241m=\u001b[39m \u001b[38;5;28mself\u001b[39m\u001b[38;5;241m.\u001b[39mreader\u001b[38;5;241m.\u001b[39mduration\n\u001b[1;32m     75\u001b[0m \u001b[38;5;28mself\u001b[39m\u001b[38;5;241m.\u001b[39mbuffersize \u001b[38;5;241m=\u001b[39m \u001b[38;5;28mself\u001b[39m\u001b[38;5;241m.\u001b[39mreader\u001b[38;5;241m.\u001b[39mbuffersize\n\u001b[0;32m---> 77\u001b[0m \u001b[38;5;28mself\u001b[39m\u001b[38;5;241m.\u001b[39mmake_frame \u001b[38;5;241m=\u001b[39m \u001b[38;5;28;01mlambda\u001b[39;00m t: \u001b[38;5;28;43mself\u001b[39;49m\u001b[38;5;241;43m.\u001b[39;49m\u001b[43mreader\u001b[49m\u001b[38;5;241;43m.\u001b[39;49m\u001b[43mget_frame\u001b[49m\u001b[43m(\u001b[49m\u001b[43mt\u001b[49m\u001b[43m)\u001b[49m\n\u001b[1;32m     78\u001b[0m \u001b[38;5;28mself\u001b[39m\u001b[38;5;241m.\u001b[39mnchannels \u001b[38;5;241m=\u001b[39m \u001b[38;5;28mself\u001b[39m\u001b[38;5;241m.\u001b[39mreader\u001b[38;5;241m.\u001b[39mnchannels\n",
      "File \u001b[0;32m~/Python/podomatic/lib/python3.11/site-packages/moviepy/audio/io/readers.py:205\u001b[0m, in \u001b[0;36mFFMPEG_AudioReader.get_frame\u001b[0;34m(self, tt)\u001b[0m\n\u001b[1;32m    203\u001b[0m         \u001b[38;5;66;03m# repeat the last frame instead\u001b[39;00m\n\u001b[1;32m    204\u001b[0m         indices[indices\u001b[38;5;241m>\u001b[39m\u001b[38;5;241m=\u001b[39m\u001b[38;5;28mlen\u001b[39m(\u001b[38;5;28mself\u001b[39m\u001b[38;5;241m.\u001b[39mbuffer)] \u001b[38;5;241m=\u001b[39m \u001b[38;5;28mlen\u001b[39m(\u001b[38;5;28mself\u001b[39m\u001b[38;5;241m.\u001b[39mbuffer) \u001b[38;5;241m-\u001b[39m\u001b[38;5;241m1\u001b[39m\n\u001b[0;32m--> 205\u001b[0m         result[in_time] \u001b[38;5;241m=\u001b[39m \u001b[38;5;28;43mself\u001b[39;49m\u001b[38;5;241;43m.\u001b[39;49m\u001b[43mbuffer\u001b[49m\u001b[43m[\u001b[49m\u001b[43mindices\u001b[49m\u001b[43m]\u001b[49m\n\u001b[1;32m    206\u001b[0m         \u001b[38;5;28;01mreturn\u001b[39;00m result\n\u001b[1;32m    208\u001b[0m \u001b[38;5;28;01melse\u001b[39;00m:\n",
      "\u001b[0;31mIndexError\u001b[0m: index -100001 is out of bounds for axis 0 with size 0"
     ]
    }
   ],
   "source": [
    "#clip.write_videofile('test2.mov', codec='prores', audio_codec='pcm_s32le')\n",
    "# clip.audio = audio_as_clip # does not work any more no idea why\n",
    "clip.write_videofile('mm-test-clean-audio.mp4')"
   ]
  },
  {
   "cell_type": "code",
   "execution_count": 32,
   "id": "4d80de35-6457-4cc4-a35b-8fd43b374466",
   "metadata": {},
   "outputs": [
    {
     "name": "stderr",
     "output_type": "stream",
     "text": [
      "ffmpeg version 6.1.1 Copyright (c) 2000-2023 the FFmpeg developers\n",
      "  built with Apple clang version 15.0.0 (clang-1500.1.0.2.5)\n",
      "  configuration: --prefix=/opt/homebrew/Cellar/ffmpeg/6.1.1_3 --enable-shared --enable-pthreads --enable-version3 --cc=clang --host-cflags= --host-ldflags='-Wl,-ld_classic' --enable-ffplay --enable-gnutls --enable-gpl --enable-libaom --enable-libaribb24 --enable-libbluray --enable-libdav1d --enable-libharfbuzz --enable-libjxl --enable-libmp3lame --enable-libopus --enable-librav1e --enable-librist --enable-librubberband --enable-libsnappy --enable-libsrt --enable-libssh --enable-libsvtav1 --enable-libtesseract --enable-libtheora --enable-libvidstab --enable-libvmaf --enable-libvorbis --enable-libvpx --enable-libwebp --enable-libx264 --enable-libx265 --enable-libxml2 --enable-libxvid --enable-lzma --enable-libfontconfig --enable-libfreetype --enable-frei0r --enable-libass --enable-libopencore-amrnb --enable-libopencore-amrwb --enable-libopenjpeg --enable-libopenvino --enable-libspeex --enable-libsoxr --enable-libzmq --enable-libzimg --disable-libjack --disable-indev=jack --enable-videotoolbox --enable-audiotoolbox --enable-neon\n",
      "  libavutil      58. 29.100 / 58. 29.100\n",
      "  libavcodec     60. 31.102 / 60. 31.102\n",
      "  libavformat    60. 16.100 / 60. 16.100\n",
      "  libavdevice    60.  3.100 / 60.  3.100\n",
      "  libavfilter     9. 12.100 /  9. 12.100\n",
      "  libswscale      7.  5.100 /  7.  5.100\n",
      "  libswresample   4. 12.100 /  4. 12.100\n",
      "  libpostproc    57.  3.100 / 57.  3.100\n",
      "Input #0, mov,mp4,m4a,3gp,3g2,mj2, from 'mm-test-full-sec.mp4':\n",
      "  Metadata:\n",
      "    major_brand     : isom\n",
      "    minor_version   : 512\n",
      "    compatible_brands: isomiso2avc1mp41\n",
      "    encoder         : Lavf60.16.100\n",
      "  Duration: 00:01:38.53, start: 0.000000, bitrate: 2783 kb/s\n",
      "  Stream #0:0[0x1](und): Video: h264 (High) (avc1 / 0x31637661), yuv420p(progressive), 1920x1080, 2644 kb/s, 50 fps, 50 tbr, 12800 tbn (default)\n",
      "    Metadata:\n",
      "      handler_name    : VideoHandler\n",
      "      vendor_id       : [0][0][0][0]\n",
      "      encoder         : Lavc60.31.102 libx264\n",
      "  Stream #0:1[0x2](und): Audio: mp3 (mp4a / 0x6134706D), 44100 Hz, stereo, fltp, 128 kb/s (default)\n",
      "    Metadata:\n",
      "      handler_name    : SoundHandler\n",
      "      vendor_id       : [0][0][0][0]\n",
      "[aist#1:0/pcm_s16le @ 0x1386088d0] Guessed Channel Layout: stereo\n",
      "Input #1, wav, from 'mixed-audio.wav':\n",
      "  Metadata:\n",
      "    encoder         : Lavf60.16.100\n",
      "  Duration: 00:01:38.51, bitrate: 1411 kb/s\n",
      "  Stream #1:0: Audio: pcm_s16le ([1][0][0][0] / 0x0001), 44100 Hz, 2 channels, s16, 1411 kb/s\n",
      "Output #0, mp4, to 'output_video.mp4':\n",
      "  Metadata:\n",
      "    major_brand     : isom\n",
      "    minor_version   : 512\n",
      "    compatible_brands: isomiso2avc1mp41\n",
      "    encoder         : Lavf60.16.100\n",
      "  Stream #0:0(und): Video: h264 (High) (avc1 / 0x31637661), yuv420p(progressive), 1920x1080, q=2-31, 2644 kb/s, 50 fps, 50 tbr, 12800 tbn (default)\n",
      "    Metadata:\n",
      "      handler_name    : VideoHandler\n",
      "      vendor_id       : [0][0][0][0]\n",
      "      encoder         : Lavc60.31.102 libx264\n",
      "  Stream #0:1: Audio: pcm_s16le (ipcm / 0x6D637069), 44100 Hz, stereo, s16, 1411 kb/s\n",
      "Stream mapping:\n",
      "  Stream #0:0 -> #0:0 (copy)\n",
      "  Stream #1:0 -> #0:1 (copy)\n",
      "Press [q] to stop, [?] for help\n",
      "[out#0/mp4 @ 0x600001b38600] video:31804kB audio:16970kB subtitle:0kB other streams:0kB global headers:0kB muxing overhead: 0.221270%\n",
      "size=   48882kB time=00:01:38.49 bitrate=4065.4kbits/s speed=1.31e+03x    \n"
     ]
    },
    {
     "data": {
      "text/plain": [
       "(None, None)"
      ]
     },
     "execution_count": 32,
     "metadata": {},
     "output_type": "execute_result"
    }
   ],
   "source": [
    "import ffmpeg\n",
    "\n",
    "def remux_video(video_file, audio_file):\n",
    "    input_video = video_file\n",
    "    new_audio = audio_file\n",
    "    output_video = video_file[0:-4] + \"-mixed\" + video_file[:-4]\n",
    "    \n",
    "    # Define the input video and audio streams\n",
    "    input_video_stream = ffmpeg.input(input_video)\n",
    "    input_audio_stream = ffmpeg.input(new_audio)\n",
    "    \n",
    "    # Use the 'map' option to copy the video stream and the audio stream\n",
    "    output_stream = ffmpeg.output(input_video_stream['v'], input_audio_stream['a'], output_video, c='copy')\n",
    "    \n",
    "    # Run the ffmpeg command to replace the audio using the copy codec\n",
    "    ffmpeg.run(output_stream, overwrite_output=True)\n"
   ]
  },
  {
   "cell_type": "code",
   "execution_count": 150,
   "id": "0f487df3-ef26-4466-abdb-504355e7544f",
   "metadata": {},
   "outputs": [
    {
     "name": "stdout",
     "output_type": "stream",
     "text": [
      "4752001 4776000 4776000 4752001\n",
      "(4752001,) (4776000,)\n"
     ]
    },
    {
     "data": {
      "image/png": "[encoded data removed]",
      "text/plain": [
       "<Figure size 640x480 with 1 Axes>"
      ]
     },
     "metadata": {},
     "output_type": "display_data"
    }
   ],
   "source": [
    "import matplotlib.pyplot as plt\n",
    "import numpy as np\n",
    "from scipy.io import wavfile\n",
    "import librosa\n",
    "\n",
    "matthew_audio = clip1\n",
    "mark_audio = clip2\n",
    "\n",
    "if len(matthew_audio) > len(mark_audio):\n",
    "    matthew_audio = matthew_audio[0:len(mark_audio)]\n",
    "else:\n",
    "    mark_audio = mark_audio[0:len(matthew_audio)]\n",
    "    \n",
    "\n",
    "# Ensure same sampling frequency\n",
    "\n",
    "# Calculate moving average loudness over 0.1 sec window \n",
    "window_size = round(0.5 * sr)  \n",
    "matthew_loudness = scipy.signal.convolve(np.abs(matthew_audio), np.ones(window_size)/window_size, mode='valid')\n",
    "mark_loudness = scipy.signal.convolve(np.abs(mark_audio), np.ones(window_size)/window_size, mode='valid')\n",
    "\n",
    "# Generate overlay colors\n",
    "colors = ['blue' if l1 > l2 else 'red' for l1, l2 in zip(matthew_loudness, mark_loudness)]\n",
    "# Plot waveforms and overlay\n",
    "time = np.arange(len(colors))\n",
    "\n",
    "print(len(colors), len(matthew_audio), len(mark_audio), len(time))\n",
    "print(time.shape, matthew_audio.shape)\n",
    "offset = len(matthew_audio) - len(time)\n",
    "plt.plot(time, matthew_audio[offset:] + 4, alpha=0.5, color='blue')\n",
    "plt.plot(time, mark_audio[offset:] + 2, alpha=0.5, color='red')  \n",
    "plt.scatter(time, np.zeros_like(time)+3, c=colors, s=3)\n",
    "plt.xlim([time[0], time[-1]])\n",
    "plt.xlabel('Time [sec]')\n",
    "plt.ylabel('Amplitude')\n",
    "plt.show()"
   ]
  },
  {
   "cell_type": "code",
   "execution_count": 27,
   "id": "fa1e2676-575a-48fa-ab60-93551b3a6315",
   "metadata": {},
   "outputs": [
    {
     "data": {
      "text/plain": [
       "(98.51389583333334, 100.49000000000001, 100.49000000000001)"
      ]
     },
     "execution_count": 27,
     "metadata": {},
     "output_type": "execute_result"
    }
   ],
   "source": [
    "(clip.duration, audio_as_clip.duration, audio_as_clip_clean.duration)"
   ]
  },
  {
   "cell_type": "code",
   "execution_count": 21,
   "id": "58930e0f-1bb8-4025-9701-a6e16b2a0fd5",
   "metadata": {},
   "outputs": [
    {
     "data": {
      "text/plain": [
       "99.5"
      ]
     },
     "execution_count": 21,
     "metadata": {},
     "output_type": "execute_result"
    }
   ],
   "source": [
    "len(clip1) / 48000"
   ]
  }
 ],
 "metadata": {
  "kernelspec": {
   "display_name": "Python 3 (ipykernel)",
   "language": "python",
   "name": "python3"
  },
  "language_info": {
   "codemirror_mode": {
    "name": "ipython",
    "version": 3
   },
   "file_extension": ".py",
   "mimetype": "text/x-python",
   "name": "python",
   "nbconvert_exporter": "python",
   "pygments_lexer": "ipython3",
   "version": "3.11.6"
  }
 },
 "nbformat": 4,
 "nbformat_minor": 5
}
