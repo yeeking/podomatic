{
 "cells": [
  {
   "cell_type": "code",
   "execution_count": 2,
   "id": "c7529869-392c-4240-99e4-23ac2ff55197",
   "metadata": {},
   "outputs": [
    {
     "name": "stdout",
     "output_type": "stream",
     "text": [
      "Requirement already satisfied: moviepy in /home/matthewyk/Python/ai-improviser-expt/lib/python3.10/site-packages (1.0.3)\n",
      "Requirement already satisfied: tqdm<5.0,>=4.11.2 in /home/matthewyk/Python/ai-improviser-expt/lib/python3.10/site-packages (from moviepy) (4.66.1)\n",
      "Requirement already satisfied: imageio-ffmpeg>=0.2.0 in /home/matthewyk/Python/ai-improviser-expt/lib/python3.10/site-packages (from moviepy) (0.4.9)\n",
      "Requirement already satisfied: numpy in /home/matthewyk/Python/ai-improviser-expt/lib/python3.10/site-packages (from moviepy) (1.26.3)\n",
      "Requirement already satisfied: requests<3.0,>=2.8.1 in /home/matthewyk/Python/ai-improviser-expt/lib/python3.10/site-packages (from moviepy) (2.31.0)\n",
      "Requirement already satisfied: proglog<=1.0.0 in /home/matthewyk/Python/ai-improviser-expt/lib/python3.10/site-packages (from moviepy) (0.1.10)\n",
      "Requirement already satisfied: imageio<3.0,>=2.5 in /home/matthewyk/Python/ai-improviser-expt/lib/python3.10/site-packages (from moviepy) (2.33.1)\n",
      "Requirement already satisfied: decorator<5.0,>=4.0.2 in /home/matthewyk/Python/ai-improviser-expt/lib/python3.10/site-packages (from moviepy) (4.4.2)\n",
      "Requirement already satisfied: pillow>=8.3.2 in /home/matthewyk/Python/ai-improviser-expt/lib/python3.10/site-packages (from imageio<3.0,>=2.5->moviepy) (10.2.0)\n",
      "Requirement already satisfied: setuptools in /home/matthewyk/Python/ai-improviser-expt/lib/python3.10/site-packages (from imageio-ffmpeg>=0.2.0->moviepy) (59.6.0)\n",
      "Requirement already satisfied: idna<4,>=2.5 in /home/matthewyk/Python/ai-improviser-expt/lib/python3.10/site-packages (from requests<3.0,>=2.8.1->moviepy) (3.6)\n",
      "Requirement already satisfied: urllib3<3,>=1.21.1 in /home/matthewyk/Python/ai-improviser-expt/lib/python3.10/site-packages (from requests<3.0,>=2.8.1->moviepy) (2.1.0)\n",
      "Requirement already satisfied: certifi>=2017.4.17 in /home/matthewyk/Python/ai-improviser-expt/lib/python3.10/site-packages (from requests<3.0,>=2.8.1->moviepy) (2023.11.17)\n",
      "Requirement already satisfied: charset-normalizer<4,>=2 in /home/matthewyk/Python/ai-improviser-expt/lib/python3.10/site-packages (from requests<3.0,>=2.8.1->moviepy) (3.3.2)\n",
      "Requirement already satisfied: librosa in /home/matthewyk/Python/ai-improviser-expt/lib/python3.10/site-packages (0.10.1)\n",
      "Requirement already satisfied: lazy-loader>=0.1 in /home/matthewyk/Python/ai-improviser-expt/lib/python3.10/site-packages (from librosa) (0.3)\n",
      "Requirement already satisfied: pooch>=1.0 in /home/matthewyk/Python/ai-improviser-expt/lib/python3.10/site-packages (from librosa) (1.8.0)\n",
      "Requirement already satisfied: decorator>=4.3.0 in /home/matthewyk/Python/ai-improviser-expt/lib/python3.10/site-packages (from librosa) (4.4.2)\n",
      "Requirement already satisfied: typing-extensions>=4.1.1 in /home/matthewyk/Python/ai-improviser-expt/lib/python3.10/site-packages (from librosa) (4.9.0)\n",
      "Requirement already satisfied: scikit-learn>=0.20.0 in /home/matthewyk/Python/ai-improviser-expt/lib/python3.10/site-packages (from librosa) (1.4.0)\n",
      "Requirement already satisfied: scipy>=1.2.0 in /home/matthewyk/Python/ai-improviser-expt/lib/python3.10/site-packages (from librosa) (1.11.4)\n",
      "Requirement already satisfied: soundfile>=0.12.1 in /home/matthewyk/Python/ai-improviser-expt/lib/python3.10/site-packages (from librosa) (0.12.1)\n",
      "Requirement already satisfied: soxr>=0.3.2 in /home/matthewyk/Python/ai-improviser-expt/lib/python3.10/site-packages (from librosa) (0.3.7)\n",
      "Requirement already satisfied: audioread>=2.1.9 in /home/matthewyk/Python/ai-improviser-expt/lib/python3.10/site-packages (from librosa) (3.0.1)\n",
      "Requirement already satisfied: msgpack>=1.0 in /home/matthewyk/Python/ai-improviser-expt/lib/python3.10/site-packages (from librosa) (1.0.7)\n",
      "Requirement already satisfied: numpy!=1.22.0,!=1.22.1,!=1.22.2,>=1.20.3 in /home/matthewyk/Python/ai-improviser-expt/lib/python3.10/site-packages (from librosa) (1.26.3)\n",
      "Requirement already satisfied: joblib>=0.14 in /home/matthewyk/Python/ai-improviser-expt/lib/python3.10/site-packages (from librosa) (1.3.2)\n",
      "Requirement already satisfied: numba>=0.51.0 in /home/matthewyk/Python/ai-improviser-expt/lib/python3.10/site-packages (from librosa) (0.59.0)\n",
      "Requirement already satisfied: llvmlite<0.43,>=0.42.0dev0 in /home/matthewyk/Python/ai-improviser-expt/lib/python3.10/site-packages (from numba>=0.51.0->librosa) (0.42.0)\n",
      "Requirement already satisfied: packaging>=20.0 in /home/matthewyk/Python/ai-improviser-expt/lib/python3.10/site-packages (from pooch>=1.0->librosa) (23.2)\n",
      "Requirement already satisfied: platformdirs>=2.5.0 in /home/matthewyk/Python/ai-improviser-expt/lib/python3.10/site-packages (from pooch>=1.0->librosa) (4.1.0)\n",
      "Requirement already satisfied: requests>=2.19.0 in /home/matthewyk/Python/ai-improviser-expt/lib/python3.10/site-packages (from pooch>=1.0->librosa) (2.31.0)\n",
      "Requirement already satisfied: threadpoolctl>=2.0.0 in /home/matthewyk/Python/ai-improviser-expt/lib/python3.10/site-packages (from scikit-learn>=0.20.0->librosa) (3.2.0)\n",
      "Requirement already satisfied: cffi>=1.0 in /home/matthewyk/Python/ai-improviser-expt/lib/python3.10/site-packages (from soundfile>=0.12.1->librosa) (1.16.0)\n",
      "Requirement already satisfied: pycparser in /home/matthewyk/Python/ai-improviser-expt/lib/python3.10/site-packages (from cffi>=1.0->soundfile>=0.12.1->librosa) (2.21)\n",
      "Requirement already satisfied: idna<4,>=2.5 in /home/matthewyk/Python/ai-improviser-expt/lib/python3.10/site-packages (from requests>=2.19.0->pooch>=1.0->librosa) (3.6)\n",
      "Requirement already satisfied: certifi>=2017.4.17 in /home/matthewyk/Python/ai-improviser-expt/lib/python3.10/site-packages (from requests>=2.19.0->pooch>=1.0->librosa) (2023.11.17)\n",
      "Requirement already satisfied: urllib3<3,>=1.21.1 in /home/matthewyk/Python/ai-improviser-expt/lib/python3.10/site-packages (from requests>=2.19.0->pooch>=1.0->librosa) (2.1.0)\n",
      "Requirement already satisfied: charset-normalizer<4,>=2 in /home/matthewyk/Python/ai-improviser-expt/lib/python3.10/site-packages (from requests>=2.19.0->pooch>=1.0->librosa) (3.3.2)\n",
      "Requirement already satisfied: scipy in /home/matthewyk/Python/ai-improviser-expt/lib/python3.10/site-packages (1.11.4)\n",
      "Requirement already satisfied: numpy<1.28.0,>=1.21.6 in /home/matthewyk/Python/ai-improviser-expt/lib/python3.10/site-packages (from scipy) (1.26.3)\n",
      "Collecting matplotlib\n",
      "  Using cached matplotlib-3.8.2-cp310-cp310-manylinux_2_17_x86_64.manylinux2014_x86_64.whl (11.6 MB)\n",
      "Collecting contourpy>=1.0.1\n",
      "  Using cached contourpy-1.2.0-cp310-cp310-manylinux_2_17_x86_64.manylinux2014_x86_64.whl (310 kB)\n",
      "Requirement already satisfied: packaging>=20.0 in /home/matthewyk/Python/ai-improviser-expt/lib/python3.10/site-packages (from matplotlib) (23.2)\n",
      "Requirement already satisfied: numpy<2,>=1.21 in /home/matthewyk/Python/ai-improviser-expt/lib/python3.10/site-packages (from matplotlib) (1.26.3)\n",
      "Collecting fonttools>=4.22.0\n",
      "  Downloading fonttools-4.47.2-cp310-cp310-manylinux_2_17_x86_64.manylinux2014_x86_64.whl (4.6 MB)\n",
      "\u001b[2K     \u001b[38;2;114;156;31m━━━━━━━━━━━━━━━━━━━━━━━━━━━━━━━━━━━━━━━━\u001b[0m \u001b[32m4.6/4.6 MB\u001b[0m \u001b[31m11.3 MB/s\u001b[0m eta \u001b[36m0:00:00\u001b[0m31m11.8 MB/s\u001b[0m eta \u001b[36m0:00:01\u001b[0m\n",
      "\u001b[?25hCollecting kiwisolver>=1.3.1\n",
      "  Using cached kiwisolver-1.4.5-cp310-cp310-manylinux_2_12_x86_64.manylinux2010_x86_64.whl (1.6 MB)\n",
      "Requirement already satisfied: pillow>=8 in /home/matthewyk/Python/ai-improviser-expt/lib/python3.10/site-packages (from matplotlib) (10.2.0)\n",
      "Collecting pyparsing>=2.3.1\n",
      "  Using cached pyparsing-3.1.1-py3-none-any.whl (103 kB)\n",
      "Requirement already satisfied: python-dateutil>=2.7 in /home/matthewyk/Python/ai-improviser-expt/lib/python3.10/site-packages (from matplotlib) (2.8.2)\n",
      "Collecting cycler>=0.10\n",
      "  Using cached cycler-0.12.1-py3-none-any.whl (8.3 kB)\n",
      "Requirement already satisfied: six>=1.5 in /home/matthewyk/Python/ai-improviser-expt/lib/python3.10/site-packages (from python-dateutil>=2.7->matplotlib) (1.16.0)\n",
      "Installing collected packages: pyparsing, kiwisolver, fonttools, cycler, contourpy, matplotlib\n",
      "Successfully installed contourpy-1.2.0 cycler-0.12.1 fonttools-4.47.2 kiwisolver-1.4.5 matplotlib-3.8.2 pyparsing-3.1.1\n"
     ]
    }
   ],
   "source": [
    "!pip install moviepy\n",
    "!pip install librosa\n",
    "!pip install scipy\n",
    "!pip install matplotlib"
   ]
  },
  {
   "cell_type": "code",
   "execution_count": 13,
   "id": "3a27ee3c-9b85-46f5-837f-20c81e8f6554",
   "metadata": {},
   "outputs": [],
   "source": [
    "import numpy as np\n",
    "import librosa\n",
    "from moviepy.editor import VideoFileClip, concatenate_videoclips\n",
    "import scipy \n",
    "\n",
    "def prepare_audio_files(video_files, gate_threshold_db=-25):\n",
    "    \"\"\"\n",
    "    extracts the audio tracks from the video files\n",
    "    applies a noise gate at the sent threshold\n",
    "    \"\"\"\n",
    "    return\n",
    "\n",
    "def read_wav_file(file_path):\n",
    "    audio_data, _ = librosa.load(file_path, sr=48000, mono=True)\n",
    "    return audio_data\n",
    "\n",
    "\n",
    "def moving_average(arr1, frame_length):\n",
    "    \"\"\"\n",
    "    Computes a moving average using the sent frame length\n",
    "    \"\"\"\n",
    "    if frame_length <= 0 or frame_length > len(arr1):\n",
    "        raise ValueError(\"Frame length must be a positive integer less than or equal to the length of input arrays\")\n",
    "    \n",
    "    # result = np.convolve(arr1, np.ones(int(frame_length))/frame_length, mode='valid')    \n",
    "    result = scipy.signal.convolve(arr1, np.ones(int(frame_length))/frame_length, mode='valid')    \n",
    "    \n",
    "    zeroes = len(arr1) - len(result)\n",
    "    print(\"zero pad\", zeroes)\n",
    "    result = np.concatenate((np.zeros(zeroes), result))\n",
    "    return result\n",
    "\n",
    "def test_moving_average():\n",
    "    # Example usage:\n",
    "    arr1 = np.array([1, 2, 3, 4, 5, 6, 7, 8, 9, 10])\n",
    "    result = moving_average(arr1, 3)\n",
    "    print(\"Moving Average of arr1:\", result)\n",
    "\n",
    "\n",
    "def find_highest_elements(arr1, arr2):\n",
    "    \"\"\"\n",
    "    returns an array of the same length as arr1 and arr2\n",
    "    for each step in the new array, if arr1[step] > arr2[step], write 0, otherwise, 1\n",
    "    \"\"\"\n",
    "    if len(arr1) != len(arr2):\n",
    "        raise ValueError(\"Input arrays must have the same length\")\n",
    "    \n",
    "    result = []\n",
    "    for i in range(len(arr1)):\n",
    "        if arr1[i] > arr2[i]:\n",
    "            result.append(0)\n",
    "        elif arr2[i] > arr1[i]:\n",
    "            result.append(1)\n",
    "        else:\n",
    "            result.append(0)  # You can modify this to handle equal values differently if needed\n",
    "    \n",
    "    return np.array(result)\n",
    "\n",
    "def process_repeats(input, thresh = 100):\n",
    "    \"\"\"\n",
    "    work through values in input, writing current value \n",
    "    to an output\n",
    "    once you've seen any value > thresh times, \n",
    "    switch to that value as your output value \n",
    "    and reset counts so the race to take over starts again\n",
    "    \"\"\"\n",
    "    vals = np.unique(input)\n",
    "    counts = {}\n",
    "    for v in vals: counts[v] = 0 \n",
    "    current = vals[0]\n",
    "    output = np.zeros(len(input))\n",
    "    for i in range(len(input)):# iterate input\n",
    "        counts[input[i]] += 1 # log count for input at step i\n",
    "        for k in counts.keys(): # look for count > thresh\n",
    "            if counts[k] > thresh: # value k is over thresh\n",
    "                current = k\n",
    "                # reset counters\n",
    "                for k in counts.keys(): counts[k] = 0\n",
    "        output[i] = current\n",
    "    return output\n",
    "\n",
    "\n",
    "\n",
    "\n",
    "def test_find_highest_elements():\n",
    "    # Example usage:\n",
    "    arr1 = np.array([1, 2, 3, 4, 5])\n",
    "    arr2 = np.array([5, 4, 3, 2, 1])\n",
    "    \n",
    "    result = find_highest_elements(arr1, arr2)\n",
    "    print(\"Comparison Result:\", result)\n",
    "\n",
    "\n",
    "\n",
    "def count_repeats(arr):\n",
    "    \"\"\"\n",
    "    used to create the segment descriptors: [[0, 123], [1, 2323]]\n",
    "    where the first value is the array value, the second is the number of repeats\n",
    "    iterates over the sent 1D array, counting the length of repeating sequences\n",
    "    when the value changes, counter is set to zero\n",
    "    outputs a list of values encountered and how many repeats of each it sees\n",
    "    \"\"\"\n",
    "    lens = []\n",
    "    count = 0\n",
    "    val = arr[0]\n",
    "    for x in arr:\n",
    "        if x == val: # no change\n",
    "            count += 1\n",
    "        else: # change\n",
    "            lens.append([val, count])\n",
    "            val = x\n",
    "            count = 0\n",
    "    return lens\n",
    "    \n",
    "def create_video_edit_moviepy(video_paths, segment_descriptors):\n",
    "    clips = []\n",
    "    offset = 0  # Initialize the offset\n",
    "    videos = [VideoFileClip(p) for p in video_paths]\n",
    "    #for video_index, duration in segment_descriptors:\n",
    "    for seg_pair in segment_descriptors:\n",
    "        video_index = int(seg_pair[0])\n",
    "        duration = seg_pair[1]\n",
    "        # video_path = video_paths[video_index]\n",
    "        # clip = VideoFileClip(video_path).subclip(offset, offset + duration)\n",
    "        clip = videos[video_index].subclip(offset, offset + duration)\n",
    "        clips.append(clip)\n",
    "        offset += duration  # Accumulate the offset for the next segment\n",
    "\n",
    "    final_clip = concatenate_videoclips(clips)\n",
    "    # final_clip.write_videofile(output_path, codec='libx264')\n",
    "    \n",
    "    print(f'Video edit created')\n",
    "    return final_clip\n",
    "\n",
    "\n",
    "\t"
   ]
  },
  {
   "cell_type": "markdown",
   "id": "01ae474b-02ab-4303-aa47-9b4da27460b9",
   "metadata": {},
   "source": [
    "## analysis example"
   ]
  },
  {
   "cell_type": "code",
   "execution_count": 20,
   "id": "88630d40-5f0b-4ce2-b04c-a496444ee99d",
   "metadata": {},
   "outputs": [
    {
     "name": "stdout",
     "output_type": "stream",
     "text": [
      "Reading files\n",
      "Computing moving average for 99.5 seconds\n",
      "zero pad 127\n",
      "zero pad 127\n",
      "Selecting loudest clip for 99.5 seconds\n",
      "Counting repeat lengths for 99.5 seconds\n",
      "Reps add up to  98.36072916666667 seconds\n",
      "Filtering short repeats\n",
      "[[0.0, 187023], [1.0, 95785], [0.0, 95718], [1.0, 92867], [0.0, 183246], [1.0, 85266], [0.0, 95074], [1.0, 87704], [0.0, 2965053], [1.0, 89646], [0.0, 187253], [1.0, 95373], [0.0, 272009], [1.0, 94689], [0.0, 94609]]\n"
     ]
    }
   ],
   "source": [
    "## compute moving average\n",
    "print(\"Reading files\")\n",
    "sr = 48000\n",
    "clip1 = read_wav_file('../data/mark-aligned.wav')\n",
    "clip2 = read_wav_file('../data/matthew-aligned.wav')\n",
    "frame_size = 128\n",
    "print(\"Computing moving average for\", (len(clip1) / sr), \"seconds\")\n",
    "clip1 = moving_average(clip1, frame_size)\n",
    "clip2 = moving_average(clip2, frame_size)\n",
    "print(\"Selecting loudest clip for\", (len(clip1) / sr), \"seconds\")\n",
    "## find the highest-> [0, 0, 1, 1, ...] per audio sample\n",
    "highest_inds = find_highest_elements(clip1, clip2)\n",
    "## apply repeater filer\n",
    "highest_inds = process_repeats(highest_inds, thresh=48000)\n",
    "## verify there are some switches happening \n",
    "assert len(np.unique(highest_inds)) > 1, \"Problem with highest inds - only one highest ind: \" + str(np.unique(highest_inds))\n",
    "print(\"Counting repeat lengths for\", (len(highest_inds) / sr), \"seconds\")\n",
    "## count repeats\n",
    "item_reps_all = count_repeats(highest_inds)\n",
    "print(\"Reps add up to \", (np.sum([v[1] for v in item_reps_all]) / sr), \"seconds\")\n",
    "print(\"Filtering short repeats\")\n",
    "## apply repeat limits \n",
    "#item_reps_filt = filter_to_long_repeats(item_reps_all, 48000/4)\n",
    "#print(\"Filtered reps add up to \", (np.sum([v[1] for v in item_reps_filt]) / sr), \"seconds\")\n",
    "\n",
    "print(item_reps_all)"
   ]
  },
  {
   "cell_type": "markdown",
   "id": "55ce9fc6-6aad-418f-90c7-2a1e7e597ab3",
   "metadata": {},
   "source": [
    "## Do the video editing"
   ]
  },
  {
   "cell_type": "code",
   "execution_count": 21,
   "id": "3c3fb109-a763-4d3a-9d87-d0b7b44abe36",
   "metadata": {},
   "outputs": [
    {
     "name": "stdout",
     "output_type": "stream",
     "text": [
      "Video edit created\n"
     ]
    },
    {
     "data": {
      "text/plain": [
       "[[0.0, 3.8963125],\n",
       " [1.0, 1.9955208333333334],\n",
       " [0.0, 1.994125],\n",
       " [1.0, 1.9347291666666666],\n",
       " [0.0, 3.817625],\n",
       " [1.0, 1.776375],\n",
       " [0.0, 1.9807083333333333],\n",
       " [1.0, 1.8271666666666666],\n",
       " [0.0, 61.7719375],\n",
       " [1.0, 1.867625],\n",
       " [0.0, 3.901104166666667],\n",
       " [1.0, 1.9869375],\n",
       " [0.0, 5.666854166666667],\n",
       " [1.0, 1.9726875],\n",
       " [0.0, 1.9710208333333334]]"
      ]
     },
     "execution_count": 21,
     "metadata": {},
     "output_type": "execute_result"
    }
   ],
   "source": [
    "# Example usage:\n",
    "video_paths = ['../data/mark-aligned.mov', '../data/matthew-aligned.mov']\n",
    "# convert to fractions of a second\n",
    "item_reps_secs = [[v[0], v[1]/48000] for v in item_reps_all]\n",
    "clip = create_video_edit_moviepy(video_paths, item_reps_secs)\n",
    "item_reps_secs"
   ]
  },
  {
   "cell_type": "code",
   "execution_count": 22,
   "id": "30d1843c-f0fc-4499-b1a7-b6ab53a23ff0",
   "metadata": {},
   "outputs": [
    {
     "name": "stdout",
     "output_type": "stream",
     "text": [
      "Moviepy - Building video mm-test-full-sec.mp4.\n",
      "MoviePy - Writing audio in mm-test-full-secTEMP_MPY_wvf_snd.mp3\n"
     ]
    },
    {
     "name": "stderr",
     "output_type": "stream",
     "text": [
      "                                                                               \r"
     ]
    },
    {
     "name": "stdout",
     "output_type": "stream",
     "text": [
      "MoviePy - Done.\n",
      "Moviepy - Writing video mm-test-full-sec.mp4\n",
      "\n"
     ]
    },
    {
     "name": "stderr",
     "output_type": "stream",
     "text": [
      "                                                                               \r"
     ]
    },
    {
     "name": "stdout",
     "output_type": "stream",
     "text": [
      "Moviepy - Done !\n",
      "Moviepy - video ready mm-test-full-sec.mp4\n"
     ]
    }
   ],
   "source": [
    "#clip.write_videofile('test2.mov', codec='prores', audio_codec='pcm_s32le')\n",
    "clip.write_videofile('mm-test-full-sec.mp4')"
   ]
  },
  {
   "cell_type": "code",
   "execution_count": null,
   "id": "898329fc-06a7-4265-8add-05ab415788d4",
   "metadata": {},
   "outputs": [],
   "source": [
    "?clip.write_videofile"
   ]
  },
  {
   "cell_type": "code",
   "execution_count": 21,
   "id": "0f487df3-ef26-4466-abdb-504355e7544f",
   "metadata": {},
   "outputs": [
    {
     "name": "stdout",
     "output_type": "stream",
     "text": [
      "8635201 8640000 8640000 8635201\n",
      "(8635201,) (8640000,)\n"
     ]
    },
    {
     "data": {
      "image/png": "[encoded data removed]",
      "text/plain": [
       "<Figure size 640x480 with 1 Axes>"
      ]
     },
     "metadata": {},
     "output_type": "display_data"
    }
   ],
   "source": [
    "import matplotlib.pyplot as plt\n",
    "import numpy as np\n",
    "from scipy.io import wavfile\n",
    "import librosa\n",
    "\n",
    "def read_wav_file(file_path):\n",
    "    audio_data, _ = librosa.load(file_path, sr=48000, mono=True)\n",
    "    return audio_data\n",
    "\n",
    "\n",
    "sr = 48000\n",
    "# Load wav files\n",
    "# matthew_audio = read_wav_file('../data/matthew-aligned.wav')  \n",
    "# mark_audio = read_wav_file('../data/mark-aligned.wav')\n",
    "matthew_audio = read_wav_file('../data/clip3.wav')  \n",
    "mark_audio = read_wav_file('../data/clip4.wav')\n",
    "\n",
    "if len(matthew_audio) > len(mark_audio):\n",
    "    matthew_audio = matthew_audio[0:len(mark_audio)]\n",
    "else:\n",
    "    mark_audio = mark_audio[0:len(matthew_audio)]\n",
    "    \n",
    "\n",
    "# Ensure same sampling frequency\n",
    "\n",
    "# Calculate moving average loudness over 0.1 sec window \n",
    "window_size = round(0.1 * sr)  \n",
    "matthew_loudness = np.convolve(np.abs(matthew_audio), np.ones(window_size)/window_size, mode='valid')\n",
    "mark_loudness = np.convolve(np.abs(mark_audio), np.ones(window_size)/window_size, mode='valid')\n",
    "\n",
    "# Generate overlay colors\n",
    "colors = ['blue' if l1 > l2 else 'red' for l1, l2 in zip(matthew_loudness, mark_loudness)]\n",
    "# Plot waveforms and overlay\n",
    "# time = np.arange(len(colors)) / sr\n",
    "time = np.arange(len(colors))\n",
    "\n",
    "print(len(colors), len(matthew_audio), len(mark_audio), len(time))\n",
    "print(time.shape, matthew_audio.shape)\n",
    "plt.plot(time, matthew_audio[0:len(time)] + 4, alpha=0.5, color='blue')\n",
    "plt.plot(time, mark_audio[0:len(time)] + 2, alpha=0.5, color='red')  \n",
    "plt.scatter(time, np.zeros_like(time)+3, c=colors, s=3)\n",
    "plt.xlim([time[0], time[-1]])\n",
    "plt.xlabel('Time [sec]')\n",
    "plt.ylabel('Amplitude')\n",
    "plt.show()"
   ]
  },
  {
   "cell_type": "code",
   "execution_count": null,
   "id": "8c2bb5ab-6f0f-4ef3-9f93-049874401bfe",
   "metadata": {},
   "outputs": [],
   "source": []
  }
 ],
 "metadata": {
  "kernelspec": {
   "display_name": "Python 3 (ipykernel)",
   "language": "python",
   "name": "python3"
  },
  "language_info": {
   "codemirror_mode": {
    "name": "ipython",
    "version": 3
   },
   "file_extension": ".py",
   "mimetype": "text/x-python",
   "name": "python",
   "nbconvert_exporter": "python",
   "pygments_lexer": "ipython3",
   "version": "3.10.12"
  }
 },
 "nbformat": 4,
 "nbformat_minor": 5
}
